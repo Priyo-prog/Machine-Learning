{
  "nbformat": 4,
  "nbformat_minor": 0,
  "metadata": {
    "colab": {
      "name": "principal_components_analysis.ipynb",
      "provenance": [],
      "toc_visible": true,
      "authorship_tag": "ABX9TyOg1mMCNVCRn/n+nlOfPEoJ",
      "include_colab_link": true
    },
    "kernelspec": {
      "name": "python3",
      "display_name": "Python 3"
    },
    "language_info": {
      "name": "python"
    }
  },
  "cells": [
    {
      "cell_type": "markdown",
      "metadata": {
        "id": "view-in-github",
        "colab_type": "text"
      },
      "source": [
        "<a href=\"https://colab.research.google.com/github/Priyo-prog/Machine-Learning/blob/main/Principal%20Component%20Analysis/principal_components_analysis.ipynb\" target=\"_parent\"><img src=\"https://colab.research.google.com/assets/colab-badge.svg\" alt=\"Open In Colab\"/></a>"
      ]
    },
    {
      "cell_type": "markdown",
      "source": [
        "# **Principal Component Analysis**\n",
        "\n",
        "* Create some gene data\n",
        "* Use **PCA()** function from sklearn to do PCA\n",
        "* Determine how much variation each principal components accounts for\n",
        "* Draw a fancy PCA graph using matplotlib\n",
        "* Examin the loading scores to determine what variables have the largest effect on the graph."
      ],
      "metadata": {
        "id": "oYLCuxBlvSBt"
      }
    },
    {
      "cell_type": "markdown",
      "source": [
        "## Import important packages"
      ],
      "metadata": {
        "id": "gnBT0h9Gur_D"
      }
    },
    {
      "cell_type": "code",
      "source": [
        "import pandas as pd\n",
        "import numpy as np\n",
        "import random as rd\n",
        "from sklearn.decomposition import PCA\n",
        "from sklearn import preprocessing\n",
        "import matplotlib.pyplot as plt"
      ],
      "metadata": {
        "id": "lkZlNJNUuoV0"
      },
      "execution_count": 8,
      "outputs": []
    },
    {
      "cell_type": "markdown",
      "source": [
        "## Generate sample dataset\n",
        "\n",
        "* The first thing we do is generate an array of 100 gene names.\n",
        "* Since this is just an example we name them as \"gene1\", \"gene2\" etc."
      ],
      "metadata": {
        "id": "vnOFZczIvAFx"
      }
    },
    {
      "cell_type": "code",
      "source": [
        "genes = ['gene' + str(i) for i in range(1,101)]"
      ],
      "metadata": {
        "id": "eAt3dJSZwfQh"
      },
      "execution_count": 9,
      "outputs": []
    },
    {
      "cell_type": "markdown",
      "source": [
        "* Now we create arrays of sample names.\n",
        "* We have 5 \"wild type\" or \"wt\" samples\n",
        "* 5 \"knock out\" or \"ko\" samples"
      ],
      "metadata": {
        "id": "MyFTiYpAb0cg"
      }
    },
    {
      "cell_type": "code",
      "source": [
        "wt = ['wt' + str(i) for i in range(1,6)]\n",
        "ko = ['ko' + str(i) for i in range(1,6)]"
      ],
      "metadata": {
        "id": "wRM8MGwUcTaA"
      },
      "execution_count": 10,
      "outputs": []
    },
    {
      "cell_type": "markdown",
      "source": [
        "Now we create a pandas dataframe to store the made up data"
      ],
      "metadata": {
        "id": "UtxNYg7tdSR6"
      }
    },
    {
      "cell_type": "code",
      "source": [
        "# The \"stars\" unpack the \"wt\" and \"ko\" arrays so that column names are single array\n",
        "data = pd.DataFrame(columns=[*wt, *ko], index=genes)"
      ],
      "metadata": {
        "id": "l2qYjLzkdfQT"
      },
      "execution_count": 11,
      "outputs": []
    },
    {
      "cell_type": "markdown",
      "source": [
        "Finally creating the random data.\n",
        "\n",
        "* For each gene in the \"index\", we create 5 values for \"wt\" samples and 5 values for \"ko\" samples\n",
        "* The made up datacomes from two possion distribution: one for wt samples and one for ko samples"
      ],
      "metadata": {
        "id": "qig_VbsBeNh0"
      }
    },
    {
      "cell_type": "code",
      "source": [
        "for gene in data.index:\n",
        "  data.loc[gene, 'wt1':'wt5'] = np.random.poisson(lam=rd.randrange(10,1000), size=5)\n",
        "  data.loc[gene, 'ko1':'ko5'] = np.random.poisson(lam=rd.randrange(10,1000), size=5)"
      ],
      "metadata": {
        "id": "XhGwW5LdChfv"
      },
      "execution_count": 12,
      "outputs": []
    },
    {
      "cell_type": "code",
      "source": [
        "data.head(), data.shape"
      ],
      "metadata": {
        "colab": {
          "base_uri": "https://localhost:8080/"
        },
        "id": "XklV5qjnF_fM",
        "outputId": "190638fc-801a-4fbc-b171-57e50439ad60"
      },
      "execution_count": 13,
      "outputs": [
        {
          "output_type": "execute_result",
          "data": {
            "text/plain": [
              "(       wt1  wt2  wt3  wt4  wt5  ko1  ko2  ko3  ko4  ko5\n",
              " gene1   49   38   27   47   44  374  357  367  354  397\n",
              " gene2  787  732  752  752  705  656  640  674  694  705\n",
              " gene3  374  407  436  420  377  409  403  399  389  391\n",
              " gene4  612  576  599  632  626  778  799  788  781  751\n",
              " gene5  576  552  617  563  586  909  877  882  855  901, (100, 10))"
            ]
          },
          "metadata": {},
          "execution_count": 13
        }
      ]
    },
    {
      "cell_type": "markdown",
      "source": [
        "## Preprocessing the data\n",
        "\n",
        "* Before we do PCA we have to centre and scale the data\n",
        "* After centering, the average value for each gene will be 0 and after scaling the standard deviation for the values for each gene will be 1\n",
        "* We are transposing the data, the scale function expects the samples to be rows instead of columns.\n",
        "* We can also use StandardScaler().fit_transform() as well"
      ],
      "metadata": {
        "id": "dNTn-mmtGio2"
      }
    },
    {
      "cell_type": "code",
      "source": [
        "scaled_data = preprocessing.scale(data.T)\n",
        "\n",
        "# Now we are good to go ahead with PCA, create an object of PCA class\n",
        "pca = PCA()\n",
        "pca.fit(scaled_data)\n",
        "pca_data = pca.transform(scaled_data)"
      ],
      "metadata": {
        "id": "dnwlWCfSHbJm"
      },
      "execution_count": 14,
      "outputs": []
    },
    {
      "cell_type": "markdown",
      "source": [
        "## Visualize the data\n",
        "\n",
        "* We will draw a Scree plot\n",
        "* The frst thing we will do is calculate the percentage of variation that each principal component accounts for.\n"
      ],
      "metadata": {
        "id": "cRnF2q1zKGrJ"
      }
    },
    {
      "cell_type": "code",
      "source": [
        "per_var = np.round(pca.explained_variance_ratio_ * 100, decimals=1)\n",
        "\n",
        "# Create labels for the Scree plot\n",
        "labels = ['PC' + str(x) for x in range(1, len(per_var)+1)]\n",
        "                                       \n",
        "plt.bar(x=range(1, len(per_var)+1), height=per_var, tick_label=labels)\n",
        "plt.ylabel('Percentage of Explained Variance')\n",
        "plt.xlabel('Princepal Component')\n",
        "plt.title('Scree Plot')\n",
        "plt.show()                                       "
      ],
      "metadata": {
        "colab": {
          "base_uri": "https://localhost:8080/",
          "height": 295
        },
        "id": "3jcniPmSKLRj",
        "outputId": "cd93c306-279f-45c2-960b-250cd04f61f4"
      },
      "execution_count": 17,
      "outputs": [
        {
          "output_type": "display_data",
          "data": {
            "text/plain": [
              "<Figure size 432x288 with 1 Axes>"
            ],
            "image/png": "[encoded data removed]"
          },
          "metadata": {
            "needs_background": "light"
          }
        }
      ]
    },
    {
      "cell_type": "markdown",
      "source": [
        "## Draw a PCA plot\n"
      ],
      "metadata": {
        "id": "nyv3Itw-PhgU"
      }
    },
    {
      "cell_type": "code",
      "source": [
        "# First put the new coordinates created by pca.transform(scaled.data)\n",
        "# into a nice matrix where rows have sample labels and columns has PC labels\n",
        "\n",
        "pca_df = pd.DataFrame(pca_data, index=[*wt, *ko], columns=labels)\n"
      ],
      "metadata": {
        "id": "_IwWb2hQQmYi"
      },
      "execution_count": null,
      "outputs": []
    }
  ]
}