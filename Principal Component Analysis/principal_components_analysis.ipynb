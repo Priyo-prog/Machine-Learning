{
  "nbformat": 4,
  "nbformat_minor": 0,
  "metadata": {
    "colab": {
      "name": "principal_components_analysis.ipynb",
      "provenance": [],
      "toc_visible": true,
      "authorship_tag": "ABX9TyMowpTi23Y9bFsrnKTlSn93",
      "include_colab_link": true
    },
    "kernelspec": {
      "name": "python3",
      "display_name": "Python 3"
    },
    "language_info": {
      "name": "python"
    }
  },
  "cells": [
    {
      "cell_type": "markdown",
      "metadata": {
        "id": "view-in-github",
        "colab_type": "text"
      },
      "source": [
        "<a href=\"https://colab.research.google.com/github/Priyo-prog/Machine-Learning/blob/main/Principal%20Component%20Analysis/principal_components_analysis.ipynb\" target=\"_parent\"><img src=\"https://colab.research.google.com/assets/colab-badge.svg\" alt=\"Open In Colab\"/></a>"
      ]
    },
    {
      "cell_type": "markdown",
      "source": [
        "# **Principal Component Analysis**\n",
        "\n",
        "* Create some gene data\n",
        "* Use **PCA()** function from sklearn to do PCA\n",
        "* Determine how much variation each principal components accounts for\n",
        "* Draw a fancy PCA graph using matplotlib\n",
        "* Examin the loading scores to determine what variables have the largest effect on the graph."
      ],
      "metadata": {
        "id": "oYLCuxBlvSBt"
      }
    },
    {
      "cell_type": "markdown",
      "source": [
        "## Import important packages"
      ],
      "metadata": {
        "id": "gnBT0h9Gur_D"
      }
    },
    {
      "cell_type": "code",
      "source": [
        "import pandas as pd\n",
        "import numpy as np\n",
        "import random as rd\n",
        "from sklearn.decomposition import PCA\n",
        "from sklearn import preprocessing\n",
        "import matplotlib.pyplot as plt"
      ],
      "metadata": {
        "id": "lkZlNJNUuoV0"
      },
      "execution_count": null,
      "outputs": []
    },
    {
      "cell_type": "markdown",
      "source": [
        "## Generate sample dataset\n",
        "\n",
        "* The first thing we do is generate an array of 100 gene names.\n",
        "* Since this is just an example we name them as \"gene1\", \"gene2\" etc."
      ],
      "metadata": {
        "id": "vnOFZczIvAFx"
      }
    },
    {
      "cell_type": "code",
      "source": [
        "genes = ['gene' + str(i) for i in range(1,101)]"
      ],
      "metadata": {
        "id": "eAt3dJSZwfQh"
      },
      "execution_count": null,
      "outputs": []
    },
    {
      "cell_type": "markdown",
      "source": [
        "* Now we create arrays of sample names.\n",
        "* We have 5 \"wild type\" or \"wt\" samples\n",
        "* 5 \"knock out\" or \"ko\" samples"
      ],
      "metadata": {
        "id": "MyFTiYpAb0cg"
      }
    },
    {
      "cell_type": "code",
      "source": [
        "wt = ['wt' + str(i) for i in range(1,6)]\n",
        "ko = ['ko' + str(i) for i in range(1,6)]"
      ],
      "metadata": {
        "id": "wRM8MGwUcTaA"
      },
      "execution_count": null,
      "outputs": []
    },
    {
      "cell_type": "markdown",
      "source": [
        "Now we create a pandas dataframe to store the made up data"
      ],
      "metadata": {
        "id": "UtxNYg7tdSR6"
      }
    },
    {
      "cell_type": "code",
      "source": [
        "# The \"stars\" unpack the \"wt\" and \"ko\" arrays so that column names are single array\n",
        "data = pd.DataFrame(columns=[*wt, *ko], index=genes)"
      ],
      "metadata": {
        "id": "l2qYjLzkdfQT"
      },
      "execution_count": null,
      "outputs": []
    },
    {
      "cell_type": "markdown",
      "source": [
        "Finally creating the random data.\n",
        "\n",
        "* For each gene in the \"index\", we create 5 values for \"wt\" samples and 5 values for \"ko\" samples\n",
        "* The made up datacomes from two possion distribution: one for wt samples and one for ko samples"
      ],
      "metadata": {
        "id": "qig_VbsBeNh0"
      }
    }
  ]
}