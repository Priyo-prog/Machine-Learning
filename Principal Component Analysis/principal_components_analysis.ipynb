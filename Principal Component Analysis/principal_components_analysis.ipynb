{
  "nbformat": 4,
  "nbformat_minor": 0,
  "metadata": {
    "colab": {
      "name": "principal_components_analysis.ipynb",
      "provenance": [],
      "toc_visible": true,
      "authorship_tag": "ABX9TyM07lkFrE1KPlQPWLOwuYN0",
      "include_colab_link": true
    },
    "kernelspec": {
      "name": "python3",
      "display_name": "Python 3"
    },
    "language_info": {
      "name": "python"
    }
  },
  "cells": [
    {
      "cell_type": "markdown",
      "metadata": {
        "id": "view-in-github",
        "colab_type": "text"
      },
      "source": [
        "<a href=\"https://colab.research.google.com/github/Priyo-prog/Machine-Learning/blob/main/Principal%20Component%20Analysis/principal_components_analysis.ipynb\" target=\"_parent\"><img src=\"https://colab.research.google.com/assets/colab-badge.svg\" alt=\"Open In Colab\"/></a>"
      ]
    },
    {
      "cell_type": "markdown",
      "source": [
        "# **Principal Component Analysis**\n",
        "\n",
        "* Create some gene data\n",
        "* Use **PCA()** function from sklearn to do PCA\n",
        "* Determine how much variation each principal components accounts for\n",
        "* Draw a fancy PCA graph using matplotlib\n",
        "* Examin the loading scores to determine what variables have the largest effect on the graph."
      ],
      "metadata": {
        "id": "oYLCuxBlvSBt"
      }
    },
    {
      "cell_type": "markdown",
      "source": [
        "## Import important packages"
      ],
      "metadata": {
        "id": "gnBT0h9Gur_D"
      }
    },
    {
      "cell_type": "code",
      "source": [
        "import pandas as pd\n",
        "import numpy as np\n",
        "import random as rd\n",
        "from sklearn.decomposition import PCA\n",
        "from sklearn import preprocessing\n",
        "import matplotlib.pyplot as plt"
      ],
      "metadata": {
        "id": "lkZlNJNUuoV0"
      },
      "execution_count": 2,
      "outputs": []
    },
    {
      "cell_type": "markdown",
      "source": [
        "## Generate sample dataset\n",
        "\n",
        "* The first thing we do is generate an array of 100 gene names.\n",
        "* Since this is just an example we name them as \"gene1\", \"gene2\" etc."
      ],
      "metadata": {
        "id": "vnOFZczIvAFx"
      }
    },
    {
      "cell_type": "code",
      "source": [
        "genes = ['gene' + str(i) for i in range(1,101)]"
      ],
      "metadata": {
        "id": "eAt3dJSZwfQh"
      },
      "execution_count": 3,
      "outputs": []
    },
    {
      "cell_type": "markdown",
      "source": [
        "* Now we create arrays of sample names.\n",
        "* We have 5 \"wild type\" or \"wt\" samples\n",
        "* 5 \"knock out\" or \"ko\" samples"
      ],
      "metadata": {
        "id": "MyFTiYpAb0cg"
      }
    },
    {
      "cell_type": "code",
      "source": [
        "wt = ['wt' + str(i) for i in range(1,6)]\n",
        "ko = ['ko' + str(i) for i in range(1,6)]"
      ],
      "metadata": {
        "id": "wRM8MGwUcTaA"
      },
      "execution_count": 4,
      "outputs": []
    },
    {
      "cell_type": "markdown",
      "source": [
        "Now we create a pandas dataframe to store the made up data"
      ],
      "metadata": {
        "id": "UtxNYg7tdSR6"
      }
    },
    {
      "cell_type": "code",
      "source": [
        "# The \"stars\" unpack the \"wt\" and \"ko\" arrays so that column names are single array\n",
        "data = pd.DataFrame(columns=[*wt, *ko], index=genes)"
      ],
      "metadata": {
        "id": "l2qYjLzkdfQT"
      },
      "execution_count": 5,
      "outputs": []
    },
    {
      "cell_type": "markdown",
      "source": [
        "Finally creating the random data.\n",
        "\n",
        "* For each gene in the \"index\", we create 5 values for \"wt\" samples and 5 values for \"ko\" samples\n",
        "* The made up datacomes from two possion distribution: one for wt samples and one for ko samples"
      ],
      "metadata": {
        "id": "qig_VbsBeNh0"
      }
    },
    {
      "cell_type": "code",
      "source": [
        "for gene in data.index:\n",
        "  data.loc[gene, 'wt1':'wt5'] = np.random.poisson(lam=rd.randrange(10,1000), size=5)\n",
        "  data.loc[gene, 'ko1':'ko5'] = np.random.poisson(lam=rd.randrange(10,1000), size=5)"
      ],
      "metadata": {
        "id": "XhGwW5LdChfv"
      },
      "execution_count": 6,
      "outputs": []
    },
    {
      "cell_type": "code",
      "source": [
        "data.head(), data.shape"
      ],
      "metadata": {
        "colab": {
          "base_uri": "https://localhost:8080/"
        },
        "id": "XklV5qjnF_fM",
        "outputId": "a1084a79-e8e4-4d71-f471-7ecacfba357c"
      },
      "execution_count": 7,
      "outputs": [
        {
          "output_type": "execute_result",
          "data": {
            "text/plain": [
              "(       wt1  wt2  wt3  wt4  wt5  ko1   ko2  ko3  ko4  ko5\n",
              " gene1  577  542  555  557  584   11    11   13   13   14\n",
              " gene2  563  550  575  528  571   59    71   68   66   59\n",
              " gene3  434  409  430  458  424  592   628  552  556  599\n",
              " gene4  316  370  336  336  355  941  1041  978  960  928\n",
              " gene5  480  480  475  504  431  482   480  494  488  464, (100, 10))"
            ]
          },
          "metadata": {},
          "execution_count": 7
        }
      ]
    },
    {
      "cell_type": "markdown",
      "source": [
        "## Preprocessing the data\n",
        "\n",
        "* Before we do PCA we have to centre and scale the data\n",
        "* After centering, the average value for each gene will be 0 and after scaling the standard deviation for the values for each gene will be 1\n",
        "* We are transposing the data, the scale function expects the samples to be rows instead of columns.\n",
        "* We can also use StandardScaler().fit_transform() as well"
      ],
      "metadata": {
        "id": "dNTn-mmtGio2"
      }
    },
    {
      "cell_type": "code",
      "source": [
        "scaled_data = preprocessing.scale(data.T)\n",
        "\n",
        "# Now we are good to go ahead with PCA, create an object of PCA class\n",
        "pca = PCA()\n",
        "pca.fit(scaled_data)\n",
        "pca_data = pca.transform(scaled_data)"
      ],
      "metadata": {
        "id": "dnwlWCfSHbJm"
      },
      "execution_count": 8,
      "outputs": []
    },
    {
      "cell_type": "markdown",
      "source": [
        "## Visualize the data\n",
        "\n",
        "* We will draw a Scree plot\n",
        "* The frst thing we will do is calculate the percentage of variation that each principal component accounts for.\n"
      ],
      "metadata": {
        "id": "cRnF2q1zKGrJ"
      }
    },
    {
      "cell_type": "code",
      "source": [
        "per_var = np.round(pca.explained_variance_ratio_ * 100, decimals=1)\n",
        "\n",
        "# Create labels for the Scree plot\n",
        "labels = ['PC' + str(x) for x in range(1, len(per_var)+1)]\n",
        "                                       \n",
        "plt.figure(figsize=[7,7])\n",
        "plt.bar(x=range(1, len(per_var)+1), height=per_var, tick_label=labels)\n",
        "plt.ylabel('Percentage of Explained Variance')\n",
        "plt.xlabel('Princepal Component')\n",
        "plt.title('Scree Plot')\n",
        "plt.show()                                       "
      ],
      "metadata": {
        "colab": {
          "base_uri": "https://localhost:8080/",
          "height": 458
        },
        "id": "3jcniPmSKLRj",
        "outputId": "be028c12-aa17-49b5-a084-cceec1339b13"
      },
      "execution_count": 16,
      "outputs": [
        {
          "output_type": "display_data",
          "data": {
            "text/plain": [
              "<Figure size 504x504 with 1 Axes>"
            ],
            "image/png": "[encoded data removed]"
          },
          "metadata": {
            "needs_background": "light"
          }
        }
      ]
    },
    {
      "cell_type": "markdown",
      "source": [
        "## Draw a PCA plot\n"
      ],
      "metadata": {
        "id": "nyv3Itw-PhgU"
      }
    },
    {
      "cell_type": "code",
      "source": [
        "# First put the new coordinates created by pca.transform(scaled.data)\n",
        "# into a nice matrix where rows have sample labels and columns has PC labels\n",
        "\n",
        "pca_df = pd.DataFrame(pca_data, index=[*wt, *ko], columns=labels)\n",
        "\n",
        "# Draw a scatter plot\n",
        "plt.figure(figsize=[7,7])\n",
        "plt.scatter(pca_df.PC1, pca_df.PC2)\n",
        "plt.title('My PCA Graph')\n",
        "plt.xlabel('PC1 - {0}%'.format(per_var[0]))\n",
        "plt.ylabel('PC2 - {0}%'.format(per_var[1]))\n",
        "\n",
        "for sample in pca_df.index:\n",
        "  plt.annotate(sample, (pca_df.PC1.loc[sample], pca_df.PC2.loc[sample]))\n",
        "\n",
        "plt.show()  "
      ],
      "metadata": {
        "colab": {
          "base_uri": "https://localhost:8080/",
          "height": 458
        },
        "id": "_IwWb2hQQmYi",
        "outputId": "5d80210a-9990-4375-9892-dca04999c2cd"
      },
      "execution_count": 17,
      "outputs": [
        {
          "output_type": "display_data",
          "data": {
            "text/plain": [
              "<Figure size 504x504 with 1 Axes>"
            ],
            "image/png": "[encoded data removed]"
          },
          "metadata": {
            "needs_background": "light"
          }
        }
      ]
    },
    {
      "cell_type": "markdown",
      "source": [
        "## Loading Scores\n",
        "\n",
        "Let's look at the loading scores for PC1 to determine which genes had the largest influence on separating the two clusters along the x-axis"
      ],
      "metadata": {
        "id": "dDAxSZfQHGCL"
      }
    },
    {
      "cell_type": "code",
      "source": [
        "loading_scores = pd.Series(pca.components_[0], index=genes)\n",
        "\n",
        "# We sort the loading scores based on their magnitude (absolute value)\n",
        "sorted_loading_scores = loading_scores.abs().sort_values(ascending=False)\n",
        "\n",
        "# We are just getting the names of the top 10 indexes (which are the gene names)\n",
        "top_10_genes = sorted_loading_scores[0:10].index.values\n",
        "\n",
        "print(loading_scores[top_10_genes])"
      ],
      "metadata": {
        "colab": {
          "base_uri": "https://localhost:8080/"
        },
        "id": "PguRx_8iIvx5",
        "outputId": "55f8864e-b1a0-426e-9c7f-4d3b7d549031"
      },
      "execution_count": 18,
      "outputs": [
        {
          "output_type": "stream",
          "name": "stdout",
          "text": [
            "gene42    0.105183\n",
            "gene33    0.105166\n",
            "gene60    0.105153\n",
            "gene54   -0.105152\n",
            "gene62   -0.105137\n",
            "gene97    0.105135\n",
            "gene57   -0.105135\n",
            "gene86   -0.105131\n",
            "gene1     0.105119\n",
            "gene50   -0.105103\n",
            "dtype: float64\n"
          ]
        }
      ]
    },
    {
      "cell_type": "code",
      "source": [
        ""
      ],
      "metadata": {
        "id": "ifgiCvCHKiCk"
      },
      "execution_count": null,
      "outputs": []
    }
  ]
}