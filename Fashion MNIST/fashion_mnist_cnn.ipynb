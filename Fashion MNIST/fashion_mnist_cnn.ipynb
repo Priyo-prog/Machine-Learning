{
  "nbformat": 4,
  "nbformat_minor": 0,
  "metadata": {
    "colab": {
      "provenance": [],
      "authorship_tag": "ABX9TyMsC5YVD+ooG2e9GVaKMkKF",
      "include_colab_link": true
    },
    "kernelspec": {
      "name": "python3",
      "display_name": "Python 3"
    },
    "language_info": {
      "name": "python"
    }
  },
  "cells": [
    {
      "cell_type": "markdown",
      "metadata": {
        "id": "view-in-github",
        "colab_type": "text"
      },
      "source": [
        "<a href=\"https://colab.research.google.com/github/Priyo-prog/Machine-Learning/blob/main/Fashion%20MNIST/fashion_mnist_cnn.ipynb\" target=\"_parent\"><img src=\"https://colab.research.google.com/assets/colab-badge.svg\" alt=\"Open In Colab\"/></a>"
      ]
    },
    {
      "cell_type": "markdown",
      "source": [
        "# **Fashion Problem Statemet**\n",
        "\n",
        "Categorize the images in different classes of attires."
      ],
      "metadata": {
        "id": "JQxqAAo5lx8h"
      }
    },
    {
      "cell_type": "markdown",
      "source": [
        "## **Import the Dataset**"
      ],
      "metadata": {
        "id": "eBsNSSClrIZt"
      }
    },
    {
      "cell_type": "code",
      "source": [],
      "metadata": {
        "id": "6dPfGcinrmaZ"
      },
      "execution_count": null,
      "outputs": []
    }
  ]
}