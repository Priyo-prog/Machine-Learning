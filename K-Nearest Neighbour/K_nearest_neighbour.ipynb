{
  "nbformat": 4,
  "nbformat_minor": 0,
  "metadata": {
    "colab": {
      "name": "K-nearest_neighbour.ipynb",
      "provenance": [],
      "authorship_tag": "ABX9TyMyChn6VSHruVhsjlAzkk9P",
      "include_colab_link": true
    },
    "kernelspec": {
      "name": "python3",
      "display_name": "Python 3"
    },
    "language_info": {
      "name": "python"
    }
  },
  "cells": [
    {
      "cell_type": "markdown",
      "metadata": {
        "id": "view-in-github",
        "colab_type": "text"
      },
      "source": [
        "<a href=\"https://colab.research.google.com/github/Priyo-prog/Machine-Learning/blob/main/K-Nearest%20Neighbour/K_nearest_neighbour.ipynb\" target=\"_parent\"><img src=\"https://colab.research.google.com/assets/colab-badge.svg\" alt=\"Open In Colab\"/></a>"
      ]
    },
    {
      "cell_type": "markdown",
      "source": [
        "# **K-Nearest Neighbour**\n",
        "\n",
        "The k-nearest neighbors (KNN) algorithm is a simple, supervised machine learning algorithm that can be used to solve both classification and regression problems. It’s easy to implement and understand, but has a major drawback of becoming significantly slows as the size of that data in use grows.\n",
        "\n",
        "The KNN Algorithm\n",
        "1. Load the data\n",
        "2. Initialize K to your chosen number of neighbors\n",
        "3. For each example in the data\n",
        "3.1 Calculate the distance between the query example and the current example from the data.\n",
        "3.2 Add the distance and the index of the example to an ordered collection\n",
        "4. Sort the ordered collection of distances and indices from smallest to largest (in ascending order) by the distances\n",
        "5. Pick the first K entries from the sorted collection\n",
        "6. Get the labels of the selected K entries\n",
        "7. If regression, return the mean of the K labels\n",
        "8. If classification, return the mode of the K labels"
      ],
      "metadata": {
        "id": "y-cZyAq60Xkm"
      }
    },
    {
      "cell_type": "markdown",
      "source": [
        "## Import the libraries"
      ],
      "metadata": {
        "id": "3mKuMphS19WK"
      }
    },
    {
      "cell_type": "code",
      "source": [
        "import pandas as pd\n",
        "import numpy as np\n",
        "import matplotlib.pyplot as plt"
      ],
      "metadata": {
        "id": "bTdp1J2U3f2f"
      },
      "execution_count": 1,
      "outputs": []
    },
    {
      "cell_type": "markdown",
      "source": [
        "## Import the dataset"
      ],
      "metadata": {
        "id": "K3xn2-j23oBJ"
      }
    },
    {
      "cell_type": "code",
      "source": [
        "# Mount the google drive to fetch the data\n",
        "from google.colab import drive\n",
        "drive.mount('/content/drive/')"
      ],
      "metadata": {
        "colab": {
          "base_uri": "https://localhost:8080/"
        },
        "id": "AQGYeLvJ3r80",
        "outputId": "2baa3e54-c337-47e8-b14d-58180a13546c"
      },
      "execution_count": 2,
      "outputs": [
        {
          "output_type": "stream",
          "name": "stdout",
          "text": [
            "Mounted at /content/drive/\n"
          ]
        }
      ]
    },
    {
      "cell_type": "code",
      "source": [
        "%cd /content/drive/MyDrive/Data Science/Machine Learning"
      ],
      "metadata": {
        "id": "DMKXJ3V1ylco",
        "outputId": "79180749-54cd-4223-c948-b3de282c3e14",
        "colab": {
          "base_uri": "https://localhost:8080/"
        }
      },
      "execution_count": 3,
      "outputs": [
        {
          "output_type": "stream",
          "name": "stdout",
          "text": [
            "/content/drive/MyDrive/Data Science/Machine Learning\n"
          ]
        }
      ]
    },
    {
      "cell_type": "code",
      "source": [
        "dataset = pd.read_csv('/content/drive/MyDrive/Data Science/Machine Learning/Social_Network_Ads.csv', sep=',')\n",
        "dataset.head()"
      ],
      "metadata": {
        "colab": {
          "base_uri": "https://localhost:8080/",
          "height": 206
        },
        "id": "CywrMguv4GlK",
        "outputId": "b67e4742-a659-4661-a99c-fd8bdc206c2c"
      },
      "execution_count": 4,
      "outputs": [
        {
          "output_type": "execute_result",
          "data": {
            "text/plain": [
              "   Age  EstimatedSalary  Purchased\n",
              "0   19            19000          0\n",
              "1   35            20000          0\n",
              "2   26            43000          0\n",
              "3   27            57000          0\n",
              "4   19            76000          0"
            ],
            "text/html": [
              "\n",
              "  <div id=\"df-e8a229ca-b6d1-4741-abfd-7fc5273be555\">\n",
              "    <div class=\"colab-df-container\">\n",
              "      <div>\n",
              "<style scoped>\n",
              "    .dataframe tbody tr th:only-of-type {\n",
              "        vertical-align: middle;\n",
              "    }\n",
              "\n",
              "    .dataframe tbody tr th {\n",
              "        vertical-align: top;\n",
              "    }\n",
              "\n",
              "    .dataframe thead th {\n",
              "        text-align: right;\n",
              "    }\n",
              "</style>\n",
              "<table border=\"1\" class=\"dataframe\">\n",
              "  <thead>\n",
              "    <tr style=\"text-align: right;\">\n",
              "      <th></th>\n",
              "      <th>Age</th>\n",
              "      <th>EstimatedSalary</th>\n",
              "      <th>Purchased</th>\n",
              "    </tr>\n",
              "  </thead>\n",
              "  <tbody>\n",
              "    <tr>\n",
              "      <th>0</th>\n",
              "      <td>19</td>\n",
              "      <td>19000</td>\n",
              "      <td>0</td>\n",
              "    </tr>\n",
              "    <tr>\n",
              "      <th>1</th>\n",
              "      <td>35</td>\n",
              "      <td>20000</td>\n",
              "      <td>0</td>\n",
              "    </tr>\n",
              "    <tr>\n",
              "      <th>2</th>\n",
              "      <td>26</td>\n",
              "      <td>43000</td>\n",
              "      <td>0</td>\n",
              "    </tr>\n",
              "    <tr>\n",
              "      <th>3</th>\n",
              "      <td>27</td>\n",
              "      <td>57000</td>\n",
              "      <td>0</td>\n",
              "    </tr>\n",
              "    <tr>\n",
              "      <th>4</th>\n",
              "      <td>19</td>\n",
              "      <td>76000</td>\n",
              "      <td>0</td>\n",
              "    </tr>\n",
              "  </tbody>\n",
              "</table>\n",
              "</div>\n",
              "      <button class=\"colab-df-convert\" onclick=\"convertToInteractive('df-e8a229ca-b6d1-4741-abfd-7fc5273be555')\"\n",
              "              title=\"Convert this dataframe to an interactive table.\"\n",
              "              style=\"display:none;\">\n",
              "        \n",
              "  <svg xmlns=\"http://www.w3.org/2000/svg\" height=\"24px\"viewBox=\"0 0 24 24\"\n",
              "       width=\"24px\">\n",
              "    <path d=\"M0 0h24v24H0V0z\" fill=\"none\"/>\n",
              "    <path d=\"M18.56 5.44l.94 2.06.94-2.06 2.06-.94-2.06-.94-.94-2.06-.94 2.06-2.06.94zm-11 1L8.5 8.5l.94-2.06 2.06-.94-2.06-.94L8.5 2.5l-.94 2.06-2.06.94zm10 10l.94 2.06.94-2.06 2.06-.94-2.06-.94-.94-2.06-.94 2.06-2.06.94z\"/><path d=\"M17.41 7.96l-1.37-1.37c-.4-.4-.92-.59-1.43-.59-.52 0-1.04.2-1.43.59L10.3 9.45l-7.72 7.72c-.78.78-.78 2.05 0 2.83L4 21.41c.39.39.9.59 1.41.59.51 0 1.02-.2 1.41-.59l7.78-7.78 2.81-2.81c.8-.78.8-2.07 0-2.86zM5.41 20L4 18.59l7.72-7.72 1.47 1.35L5.41 20z\"/>\n",
              "  </svg>\n",
              "      </button>\n",
              "      \n",
              "  <style>\n",
              "    .colab-df-container {\n",
              "      display:flex;\n",
              "      flex-wrap:wrap;\n",
              "      gap: 12px;\n",
              "    }\n",
              "\n",
              "    .colab-df-convert {\n",
              "      background-color: #E8F0FE;\n",
              "      border: none;\n",
              "      border-radius: 50%;\n",
              "      cursor: pointer;\n",
              "      display: none;\n",
              "      fill: #1967D2;\n",
              "      height: 32px;\n",
              "      padding: 0 0 0 0;\n",
              "      width: 32px;\n",
              "    }\n",
              "\n",
              "    .colab-df-convert:hover {\n",
              "      background-color: #E2EBFA;\n",
              "      box-shadow: 0px 1px 2px rgba(60, 64, 67, 0.3), 0px 1px 3px 1px rgba(60, 64, 67, 0.15);\n",
              "      fill: #174EA6;\n",
              "    }\n",
              "\n",
              "    [theme=dark] .colab-df-convert {\n",
              "      background-color: #3B4455;\n",
              "      fill: #D2E3FC;\n",
              "    }\n",
              "\n",
              "    [theme=dark] .colab-df-convert:hover {\n",
              "      background-color: #434B5C;\n",
              "      box-shadow: 0px 1px 3px 1px rgba(0, 0, 0, 0.15);\n",
              "      filter: drop-shadow(0px 1px 2px rgba(0, 0, 0, 0.3));\n",
              "      fill: #FFFFFF;\n",
              "    }\n",
              "  </style>\n",
              "\n",
              "      <script>\n",
              "        const buttonEl =\n",
              "          document.querySelector('#df-e8a229ca-b6d1-4741-abfd-7fc5273be555 button.colab-df-convert');\n",
              "        buttonEl.style.display =\n",
              "          google.colab.kernel.accessAllowed ? 'block' : 'none';\n",
              "\n",
              "        async function convertToInteractive(key) {\n",
              "          const element = document.querySelector('#df-e8a229ca-b6d1-4741-abfd-7fc5273be555');\n",
              "          const dataTable =\n",
              "            await google.colab.kernel.invokeFunction('convertToInteractive',\n",
              "                                                     [key], {});\n",
              "          if (!dataTable) return;\n",
              "\n",
              "          const docLinkHtml = 'Like what you see? Visit the ' +\n",
              "            '<a target=\"_blank\" href=https://colab.research.google.com/notebooks/data_table.ipynb>data table notebook</a>'\n",
              "            + ' to learn more about interactive tables.';\n",
              "          element.innerHTML = '';\n",
              "          dataTable['output_type'] = 'display_data';\n",
              "          await google.colab.output.renderOutput(dataTable, element);\n",
              "          const docLink = document.createElement('div');\n",
              "          docLink.innerHTML = docLinkHtml;\n",
              "          element.appendChild(docLink);\n",
              "        }\n",
              "      </script>\n",
              "    </div>\n",
              "  </div>\n",
              "  "
            ]
          },
          "metadata": {},
          "execution_count": 4
        }
      ]
    },
    {
      "cell_type": "code",
      "source": [
        "X = dataset.iloc[:, :-1].values\n",
        "y = dataset.iloc[:, -1].values"
      ],
      "metadata": {
        "id": "JcKBPKPA5zmp"
      },
      "execution_count": 5,
      "outputs": []
    },
    {
      "cell_type": "markdown",
      "source": [
        "## Splitting the dataset into the Training set and Test set"
      ],
      "metadata": {
        "id": "6o6VoTVq6WvP"
      }
    },
    {
      "cell_type": "code",
      "source": [
        "from sklearn.model_selection import train_test_split\n",
        "X_train, X_test, y_train, y_test = train_test_split(X, y, test_size=0.25, random_state=42)"
      ],
      "metadata": {
        "id": "0hvM9A3j7uhD"
      },
      "execution_count": 6,
      "outputs": []
    },
    {
      "cell_type": "markdown",
      "source": [
        "## Feature Scaling"
      ],
      "metadata": {
        "id": "TrC4pYNO8Kwb"
      }
    },
    {
      "cell_type": "code",
      "source": [
        "from sklearn.preprocessing import StandardScaler\n",
        "sc = StandardScaler()\n",
        "X_train = sc.fit_transform(X_train)\n",
        "X_test = sc.transform(X_test)\n",
        "print(X_train)\n",
        "print(X_test)"
      ],
      "metadata": {
        "colab": {
          "base_uri": "https://localhost:8080/"
        },
        "id": "0Tiq5khpbok_",
        "outputId": "0dfc9511-fa69-4cf1-b203-b39652a77838"
      },
      "execution_count": 7,
      "outputs": [
        {
          "output_type": "stream",
          "name": "stdout",
          "text": [
            "[[ 1.8925893   1.52189404]\n",
            " [ 0.1250379   0.03213212]\n",
            " [ 0.9106163  -1.31157471]\n",
            " [-1.34792161 -1.48684082]\n",
            " [-0.169554   -0.58129926]\n",
            " [-0.56234321  2.33980255]\n",
            " [ 1.0088136  -1.19473064]\n",
            " [-0.75873781  1.08372877]\n",
            " [ 2.1871812  -1.04867555]\n",
            " [ 0.0268406  -0.25997806]\n",
            " [-0.46414591 -1.1363086 ]\n",
            " [ 0.1250379   0.03213212]\n",
            " [ 1.6961947  -0.90262046]\n",
            " [ 1.1070109  -0.90262046]\n",
            " [ 0.5178271   1.22978386]\n",
            " [-1.05332971 -1.4576298 ]\n",
            " [-1.15152701 -1.54526286]\n",
            " [-0.0713567   0.67477452]\n",
            " [ 0.4196298  -0.46445519]\n",
            " [-0.2677513  -0.25997806]\n",
            " [-0.85693511  0.14897619]\n",
            " [ 0.0268406   0.29503128]\n",
            " [ 0.7142217  -1.28236369]\n",
            " [ 1.5979974   1.11293979]\n",
            " [ 0.812419   -1.36999675]\n",
            " [-1.44611891 -1.22394166]\n",
            " [-0.0713567   0.14897619]\n",
            " [ 0.4196298  -0.14313399]\n",
            " [-0.2677513   0.03213212]\n",
            " [ 1.3034055   2.22295848]\n",
            " [ 0.1250379   0.76240757]\n",
            " [-1.34792161  0.55793045]\n",
            " [ 1.9907866   0.73319655]\n",
            " [-1.24972431 -1.39920777]\n",
            " [ 0.3214325  -0.3184001 ]\n",
            " [-0.95513241  0.55793045]\n",
            " [ 0.4196298   0.29503128]\n",
            " [ 0.4196298   1.11293979]\n",
            " [ 0.812419    0.76240757]\n",
            " [ 0.9106163   1.25899488]\n",
            " [-0.46414591 -1.22394166]\n",
            " [-1.83890811 -1.31157471]\n",
            " [ 1.1070109   0.55793045]\n",
            " [-0.66054051 -1.60368489]\n",
            " [-0.75873781  0.26582026]\n",
            " [ 1.0088136   2.07690339]\n",
            " [-0.56234321  1.37583895]\n",
            " [-0.0713567   0.03213212]\n",
            " [-1.93710541  0.47029739]\n",
            " [ 0.4196298   0.26582026]\n",
            " [-1.05332971  0.41187535]\n",
            " [ 0.2232352  -0.14313399]\n",
            " [ 1.8925893   0.11976517]\n",
            " [-1.15152701 -1.60368489]\n",
            " [-1.15152701  0.29503128]\n",
            " [-0.85693511 -0.78577639]\n",
            " [-0.46414591  2.31059153]\n",
            " [ 0.1250379  -0.8149874 ]\n",
            " [ 1.5979974   0.99609572]\n",
            " [-0.169554   -1.07788657]\n",
            " [ 0.812419   -1.10709759]\n",
            " [ 0.2232352   2.1061144 ]\n",
            " [-0.0713567  -0.23076704]\n",
            " [-0.85693511  2.28138051]\n",
            " [-0.0713567  -0.37682213]\n",
            " [-0.2677513  -0.58129926]\n",
            " [ 0.4196298  -0.49366621]\n",
            " [-0.2677513  -0.93183148]\n",
            " [ 0.3214325  -1.16551962]\n",
            " [ 0.2232352   0.06134314]\n",
            " [-1.15152701 -1.60368489]\n",
            " [-0.66054051 -0.05550093]\n",
            " [-0.2677513  -0.49366621]\n",
            " [-0.2677513  -1.31157471]\n",
            " [-0.75873781  0.55793045]\n",
            " [ 0.3214325   0.06134314]\n",
            " [-0.95513241  1.55110506]\n",
            " [ 0.812419    0.35345332]\n",
            " [-1.54431621 -0.20155602]\n",
            " [ 0.7142217  -1.39920777]\n",
            " [-0.75873781 -0.61051028]\n",
            " [-0.36594861 -1.31157471]\n",
            " [ 0.2232352   0.14897619]\n",
            " [-0.56234321  1.37583895]\n",
            " [-1.44611891  0.35345332]\n",
            " [-1.15152701  0.29503128]\n",
            " [ 1.0088136   1.7847932 ]\n",
            " [ 2.0889839   2.13532542]\n",
            " [-0.2677513  -0.43524417]\n",
            " [-0.36594861 -0.78577639]\n",
            " [ 0.1250379  -0.25997806]\n",
            " [-1.05332971  0.76240757]\n",
            " [ 2.1871812   0.38266434]\n",
            " [-1.34792161 -0.43524417]\n",
            " [ 1.9907866   2.16453644]\n",
            " [ 1.4998001   0.99609572]\n",
            " [-0.2677513   0.26582026]\n",
            " [-0.169554    0.85004063]\n",
            " [ 1.8925893  -0.28918908]\n",
            " [-0.0713567   1.96005931]\n",
            " [-0.46414591 -0.78577639]\n",
            " [ 0.3214325   0.03213212]\n",
            " [ 1.4016028  -1.42841878]\n",
            " [ 1.4016028   2.33980255]\n",
            " [-0.0713567   0.0029211 ]\n",
            " [-1.15152701  0.41187535]\n",
            " [-1.15152701  0.06134314]\n",
            " [-1.15152701 -0.52287722]\n",
            " [ 0.3214325  -0.28918908]\n",
            " [-0.66054051 -0.11392297]\n",
            " [-0.0713567   2.16453644]\n",
            " [ 0.0268406  -0.25997806]\n",
            " [-0.66054051 -1.04867555]\n",
            " [ 0.4196298   0.14897619]\n",
            " [ 0.812419    1.37583895]\n",
            " [-0.169554   -0.52287722]\n",
            " [ 0.0268406   0.03213212]\n",
            " [ 1.1070109   0.52871943]\n",
            " [ 1.8925893  -1.07788657]\n",
            " [ 1.0088136   1.98927033]\n",
            " [ 0.9106163  -0.58129926]\n",
            " [-0.46414591 -0.02628992]\n",
            " [-0.0713567   2.22295848]\n",
            " [-1.74071081  0.35345332]\n",
            " [ 0.2232352  -0.66893231]\n",
            " [-0.2677513  -1.39920777]\n",
            " [-1.74071081 -0.99025351]\n",
            " [ 0.7142217  -0.72735435]\n",
            " [-1.15152701 -0.78577639]\n",
            " [ 1.9907866   0.90846266]\n",
            " [ 0.2232352  -0.37682213]\n",
            " [ 0.0268406   1.22978386]\n",
            " [-0.0713567   0.29503128]\n",
            " [ 1.1070109  -1.22394166]\n",
            " [-0.169554    0.14897619]\n",
            " [ 0.3214325   0.06134314]\n",
            " [-0.2677513  -0.28918908]\n",
            " [ 0.5178271   1.72637117]\n",
            " [ 0.3214325   0.49950841]\n",
            " [ 0.0268406   1.25899488]\n",
            " [ 1.9907866  -1.36999675]\n",
            " [-1.15152701 -1.10709759]\n",
            " [-0.56234321 -1.51605184]\n",
            " [ 0.3214325  -0.52287722]\n",
            " [-0.66054051 -1.51605184]\n",
            " [-0.2677513   0.52871943]\n",
            " [ 1.0088136  -1.01946453]\n",
            " [-1.05332971  0.55793045]\n",
            " [-0.2677513   0.79161859]\n",
            " [ 0.4196298   0.09055416]\n",
            " [-1.64251351 -0.05550093]\n",
            " [ 0.3214325   0.06134314]\n",
            " [-0.46414591 -0.28918908]\n",
            " [ 0.1250379   1.87242626]\n",
            " [-0.95513241  0.41187535]\n",
            " [ 0.812419    0.52871943]\n",
            " [-1.34792161 -0.34761112]\n",
            " [-0.66054051  1.40504997]\n",
            " [ 1.2052082   0.52871943]\n",
            " [-1.74071081  0.35345332]\n",
            " [-0.56234321  1.90163728]\n",
            " [-1.74071081  0.47029739]\n",
            " [-0.2677513  -1.25315268]\n",
            " [-0.85693511 -0.78577639]\n",
            " [-1.64251351  0.52871943]\n",
            " [-0.2677513  -0.3184001 ]\n",
            " [ 0.7142217  -1.10709759]\n",
            " [ 2.1871812  -0.8149874 ]\n",
            " [-0.2677513   0.61635248]\n",
            " [-0.2677513  -0.75656537]\n",
            " [-1.93710541 -0.75656537]\n",
            " [ 0.4196298   2.31059153]\n",
            " [ 0.7142217   0.26582026]\n",
            " [ 0.2232352  -0.28918908]\n",
            " [-1.34792161 -1.36999675]\n",
            " [-0.46414591 -0.55208824]\n",
            " [ 0.4196298   0.0029211 ]\n",
            " [ 1.6961947   1.75558219]\n",
            " [ 1.2052082  -0.75656537]\n",
            " [ 1.0088136   1.43426099]\n",
            " [-1.83890811  0.17818721]\n",
            " [ 0.3214325   0.06134314]\n",
            " [ 0.2232352   0.03213212]\n",
            " [-1.05332971  0.52871943]\n",
            " [-0.169554    1.63873811]\n",
            " [-0.2677513   0.14897619]\n",
            " [-0.2677513  -0.34761112]\n",
            " [-0.36594861  1.31741692]\n",
            " [-0.2677513   0.09055416]\n",
            " [ 2.1871812   1.11293979]\n",
            " [-1.24972431  0.49950841]\n",
            " [-1.05332971 -0.46445519]\n",
            " [-1.64251351 -1.57447387]\n",
            " [-0.0713567   0.11976517]\n",
            " [-0.2677513  -0.90262046]\n",
            " [ 1.5979974   0.0029211 ]\n",
            " [ 0.9106163  -1.16551962]\n",
            " [ 0.0268406  -0.58129926]\n",
            " [-0.2677513   2.25216949]\n",
            " [-0.2677513   0.20739823]\n",
            " [ 0.3214325   0.26582026]\n",
            " [-0.0713567  -1.07788657]\n",
            " [ 2.1871812  -0.69814333]\n",
            " [-0.95513241 -0.3184001 ]\n",
            " [-1.44611891 -0.11392297]\n",
            " [-1.44611891 -0.20155602]\n",
            " [-0.75873781 -1.54526286]\n",
            " [-1.24972431 -1.07788657]\n",
            " [ 2.0889839   0.38266434]\n",
            " [ 1.9907866  -0.93183148]\n",
            " [-1.93710541  0.35345332]\n",
            " [ 0.812419   -0.3184001 ]\n",
            " [-1.05332971 -1.54526286]\n",
            " [ 1.9907866  -0.66893231]\n",
            " [ 1.0088136  -1.16551962]\n",
            " [ 1.1070109  -0.14313399]\n",
            " [ 1.2052082  -0.99025351]\n",
            " [ 1.4998001   0.06134314]\n",
            " [ 0.2232352  -0.37682213]\n",
            " [ 1.4016028   1.2882059 ]\n",
            " [ 2.0889839  -0.8149874 ]\n",
            " [-0.169554   -0.20155602]\n",
            " [ 0.4196298   0.99609572]\n",
            " [-0.0713567  -0.52287722]\n",
            " [ 1.0088136  -1.07788657]\n",
            " [ 2.0889839  -1.19473064]\n",
            " [-0.0713567   0.26582026]\n",
            " [ 0.2232352  -0.25997806]\n",
            " [ 1.1070109   0.11976517]\n",
            " [-1.24972431  0.58714146]\n",
            " [-0.75873781 -1.60368489]\n",
            " [ 0.2232352   0.23660925]\n",
            " [-1.34792161  0.41187535]\n",
            " [ 0.0268406  -0.58129926]\n",
            " [ 0.7142217   1.7847932 ]\n",
            " [-1.64251351  0.06134314]\n",
            " [-0.2677513  -1.36999675]\n",
            " [-0.2677513  -1.4576298 ]\n",
            " [-0.66054051  0.55793045]\n",
            " [-0.75873781  0.29503128]\n",
            " [ 0.9106163  -0.66893231]\n",
            " [-1.05332971  0.58714146]\n",
            " [-0.2677513   0.06134314]\n",
            " [-0.75873781  1.34662793]\n",
            " [ 0.1250379   1.52189404]\n",
            " [-0.85693511  0.38266434]\n",
            " [ 0.3214325  -0.20155602]\n",
            " [ 1.0088136   0.58714146]\n",
            " [ 0.0268406  -0.3184001 ]\n",
            " [-0.56234321 -1.51605184]\n",
            " [ 0.1250379   0.14897619]\n",
            " [-1.15152701  0.3242423 ]\n",
            " [ 0.1250379   1.05451775]\n",
            " [-1.54431621 -0.43524417]\n",
            " [-0.169554    1.40504997]\n",
            " [ 2.1871812  -0.8149874 ]\n",
            " [-0.95513241 -0.43524417]\n",
            " [ 1.3034055   1.87242626]\n",
            " [ 1.1070109  -1.22394166]\n",
            " [-0.169554   -0.28918908]\n",
            " [ 1.794392    0.99609572]\n",
            " [-1.05332971 -0.34761112]\n",
            " [-1.34792161 -1.10709759]\n",
            " [-0.36594861  0.06134314]\n",
            " [-0.95513241 -1.10709759]\n",
            " [ 1.2052082  -1.4576298 ]\n",
            " [-0.46414591 -0.84419842]\n",
            " [-0.85693511 -0.66893231]\n",
            " [-1.54431621 -1.51605184]\n",
            " [-0.75873781  1.90163728]\n",
            " [ 0.9106163   1.02530673]\n",
            " [ 0.812419    0.26582026]\n",
            " [ 1.0088136   1.87242626]\n",
            " [ 0.9106163  -0.61051028]\n",
            " [ 1.1070109   2.07690339]\n",
            " [-0.56234321  0.87925164]\n",
            " [ 0.0268406   0.03213212]\n",
            " [-1.83890811 -1.28236369]\n",
            " [-0.0713567   0.20739823]\n",
            " [ 0.9106163  -0.55208824]\n",
            " [ 0.2232352  -0.37682213]\n",
            " [-0.169554    1.6095271 ]\n",
            " [-1.74071081  0.11976517]\n",
            " [-0.66054051 -0.34761112]\n",
            " [ 0.3214325  -0.72735435]\n",
            " [ 0.4196298  -0.46445519]\n",
            " [-0.95513241 -0.96104249]\n",
            " [ 0.1250379   0.09055416]\n",
            " [-0.95513241  0.44108637]\n",
            " [ 0.0268406  -0.55208824]\n",
            " [ 0.9106163  -0.78577639]\n",
            " [-0.0713567   0.06134314]\n",
            " [ 1.1070109  -0.99025351]\n",
            " [ 0.7142217  -1.39920777]\n",
            " [-0.2677513   0.06134314]\n",
            " [-1.34792161 -1.25315268]\n",
            " [-1.15152701 -1.01946453]\n",
            " [ 0.5178271   1.84321524]\n",
            " [ 0.1250379   0.20739823]\n",
            " [-0.56234321  0.47029739]]\n",
            "[[ 0.812419   -1.39920777]\n",
            " [ 2.0889839   0.52871943]\n",
            " [-0.95513241 -0.75656537]\n",
            " [ 1.0088136   0.76240757]\n",
            " [-0.85693511 -1.22394166]\n",
            " [-0.75873781 -0.23076704]\n",
            " [ 0.9106163   1.08372877]\n",
            " [-0.85693511  0.38266434]\n",
            " [ 0.2232352   0.14897619]\n",
            " [ 0.4196298  -0.14313399]\n",
            " [-0.2677513  -0.14313399]\n",
            " [ 1.4998001  -1.04867555]\n",
            " [-1.44611891 -0.6397213 ]\n",
            " [-1.74071081 -1.36999675]\n",
            " [-0.75873781  0.49950841]\n",
            " [-0.2677513   1.11293979]\n",
            " [ 1.4016028  -0.93183148]\n",
            " [ 0.812419    0.11976517]\n",
            " [ 0.1250379  -0.8149874 ]\n",
            " [ 1.794392   -0.28918908]\n",
            " [-1.54431621 -1.25315268]\n",
            " [-0.85693511  0.29503128]\n",
            " [ 0.9106163  -1.36999675]\n",
            " [ 2.0889839   0.17818721]\n",
            " [-1.83890811 -1.48684082]\n",
            " [ 1.3034055  -1.36999675]\n",
            " [ 0.4196298   0.29503128]\n",
            " [-0.0713567  -0.49366621]\n",
            " [ 1.6961947   1.6095271 ]\n",
            " [-1.83890811 -1.42841878]\n",
            " [ 0.812419   -0.84419842]\n",
            " [-1.83890811  0.0029211 ]\n",
            " [-0.169554    2.16453644]\n",
            " [-0.95513241  0.26582026]\n",
            " [ 0.2232352   1.08372877]\n",
            " [-0.2677513   0.14897619]\n",
            " [-0.0713567  -0.43524417]\n",
            " [ 0.0268406  -0.14313399]\n",
            " [-1.15152701 -1.16551962]\n",
            " [-1.93710541 -0.05550093]\n",
            " [ 1.0088136  -1.07788657]\n",
            " [-1.34792161 -0.43524417]\n",
            " [-1.93710541 -0.52287722]\n",
            " [ 0.9106163  -1.4576298 ]\n",
            " [-1.74071081 -0.61051028]\n",
            " [ 0.6160244   2.01848135]\n",
            " [-0.85693511 -0.25997806]\n",
            " [-0.66054051  0.03213212]\n",
            " [ 1.0088136  -0.84419842]\n",
            " [-0.36594861 -0.78577639]\n",
            " [-1.24972431  0.26582026]\n",
            " [ 1.4998001   0.35345332]\n",
            " [ 0.0268406  -0.43524417]\n",
            " [-1.24972431  0.29503128]\n",
            " [-0.0713567   0.29503128]\n",
            " [-1.05332971 -1.1363086 ]\n",
            " [ 2.1871812   0.93767368]\n",
            " [-1.15152701  1.40504997]\n",
            " [-0.66054051  0.11976517]\n",
            " [-0.66054051  0.17818721]\n",
            " [ 0.3214325  -0.55208824]\n",
            " [-0.2677513  -0.37682213]\n",
            " [ 1.4016028   0.58714146]\n",
            " [-0.95513241  0.49950841]\n",
            " [-0.95513241 -0.3184001 ]\n",
            " [-1.05332971  1.96005931]\n",
            " [ 0.4196298   0.58714146]\n",
            " [ 0.9106163   2.16453644]\n",
            " [ 0.1250379  -0.3184001 ]\n",
            " [-0.46414591  1.25899488]\n",
            " [ 1.4016028   1.98927033]\n",
            " [-1.83890811  0.44108637]\n",
            " [-1.05332971 -0.34761112]\n",
            " [-1.44611891 -1.4576298 ]\n",
            " [ 0.9106163  -1.04867555]\n",
            " [-0.2677513  -0.58129926]\n",
            " [ 1.794392    1.84321524]\n",
            " [ 1.5979974  -1.28236369]\n",
            " [-0.2677513  -0.66893231]\n",
            " [-0.0713567   0.23660925]\n",
            " [-1.05332971 -0.37682213]\n",
            " [ 0.812419   -1.22394166]\n",
            " [ 0.1250379   1.87242626]\n",
            " [ 0.6160244  -0.90262046]\n",
            " [ 1.8925893  -1.28236369]\n",
            " [-0.56234321  1.46347201]\n",
            " [ 0.3214325  -0.52287722]\n",
            " [ 1.0088136   0.11976517]\n",
            " [-1.15152701  0.47029739]\n",
            " [-1.54431621  0.3242423 ]\n",
            " [ 1.1070109   0.47029739]\n",
            " [-0.169554   -0.46445519]\n",
            " [ 0.2232352  -0.3184001 ]\n",
            " [ 0.3214325   0.29503128]\n",
            " [-1.15152701 -1.57447387]\n",
            " [ 0.1250379   0.26582026]\n",
            " [ 2.0889839   1.75558219]\n",
            " [ 0.4196298  -0.17234501]\n",
            " [ 1.4998001   2.13532542]\n",
            " [-0.36594861  1.22978386]]\n"
          ]
        }
      ]
    },
    {
      "cell_type": "markdown",
      "source": [
        "## Training the K-NN model on the Training set\n",
        "\n",
        "* \n",
        "n_neighbors : int, default=5\n",
        "Number of neighbors to use by default for kneighbors queries.\n",
        "\n",
        "* metric : str or callable, default=’minkowski’\n",
        "The distance metric to use for the tree. The default metric is minkowski, and with p=2 is equivalent to the standard Euclidean metric. For a list of available metrics, see the documentation of DistanceMetric. If metric is “precomputed”, X is assumed to be a distance matrix and must be square during fit. X may be a sparse graph, in which case only “nonzero” elements may be considered neighbors.\n",
        "\n",
        "* p : int, default=2\n",
        "Power parameter for the Minkowski metric. When p = 1, this is equivalent to using manhattan_distance (l1), and euclidean_distance (l2) for p = 2. For arbitrary p, minkowski_distance (l_p) is used."
      ],
      "metadata": {
        "id": "BCwvmbYsdM_k"
      }
    },
    {
      "cell_type": "code",
      "source": [
        "from sklearn.neighbors import KNeighborsClassifier\n",
        "\n",
        "classifier = KNeighborsClassifier(n_neighbors=5, metric='minkowski', p=2)\n",
        "classifier.fit(X_train, y_train)"
      ],
      "metadata": {
        "colab": {
          "base_uri": "https://localhost:8080/"
        },
        "id": "ZyXR97Epd-GU",
        "outputId": "6fc575da-3e31-4f5f-a700-34a904b25487"
      },
      "execution_count": 8,
      "outputs": [
        {
          "output_type": "execute_result",
          "data": {
            "text/plain": [
              "KNeighborsClassifier()"
            ]
          },
          "metadata": {},
          "execution_count": 8
        }
      ]
    },
    {
      "cell_type": "markdown",
      "source": [
        "## Predicting a new result"
      ],
      "metadata": {
        "id": "tCVxYmMUlFAg"
      }
    },
    {
      "cell_type": "code",
      "source": [
        "y_pred = classifier.predict(X_test)\n",
        "print(np.concatenate((y_pred.reshape(len(y_pred),1), y_test.reshape(len(y_test),1)),1))"
      ],
      "metadata": {
        "colab": {
          "base_uri": "https://localhost:8080/"
        },
        "id": "H3ZKLibllJwn",
        "outputId": "ad27b05e-22bd-4213-cf2f-95b5a8a7d0a2"
      },
      "execution_count": 9,
      "outputs": [
        {
          "output_type": "stream",
          "name": "stdout",
          "text": [
            "[[1 0]\n",
            " [1 1]\n",
            " [0 0]\n",
            " [1 1]\n",
            " [0 0]\n",
            " [0 0]\n",
            " [1 1]\n",
            " [0 0]\n",
            " [0 0]\n",
            " [0 0]\n",
            " [0 0]\n",
            " [1 1]\n",
            " [0 0]\n",
            " [0 0]\n",
            " [0 0]\n",
            " [1 0]\n",
            " [1 1]\n",
            " [0 0]\n",
            " [0 0]\n",
            " [1 1]\n",
            " [0 0]\n",
            " [0 0]\n",
            " [1 1]\n",
            " [1 1]\n",
            " [0 0]\n",
            " [1 1]\n",
            " [0 0]\n",
            " [0 0]\n",
            " [1 1]\n",
            " [0 0]\n",
            " [1 1]\n",
            " [0 0]\n",
            " [1 1]\n",
            " [0 0]\n",
            " [1 1]\n",
            " [0 0]\n",
            " [0 0]\n",
            " [0 0]\n",
            " [0 0]\n",
            " [0 0]\n",
            " [1 1]\n",
            " [0 0]\n",
            " [0 0]\n",
            " [1 1]\n",
            " [0 0]\n",
            " [1 1]\n",
            " [0 0]\n",
            " [0 0]\n",
            " [1 1]\n",
            " [0 0]\n",
            " [0 0]\n",
            " [1 1]\n",
            " [0 0]\n",
            " [0 0]\n",
            " [0 0]\n",
            " [0 0]\n",
            " [1 1]\n",
            " [1 0]\n",
            " [0 0]\n",
            " [0 0]\n",
            " [0 0]\n",
            " [0 0]\n",
            " [1 1]\n",
            " [0 0]\n",
            " [0 0]\n",
            " [1 1]\n",
            " [1 1]\n",
            " [1 1]\n",
            " [0 0]\n",
            " [0 0]\n",
            " [1 1]\n",
            " [0 0]\n",
            " [0 0]\n",
            " [0 0]\n",
            " [1 1]\n",
            " [0 0]\n",
            " [1 1]\n",
            " [1 1]\n",
            " [0 0]\n",
            " [0 1]\n",
            " [0 0]\n",
            " [1 1]\n",
            " [1 1]\n",
            " [1 0]\n",
            " [1 1]\n",
            " [0 1]\n",
            " [0 0]\n",
            " [0 1]\n",
            " [0 0]\n",
            " [0 0]\n",
            " [1 1]\n",
            " [0 0]\n",
            " [0 0]\n",
            " [0 0]\n",
            " [0 0]\n",
            " [0 0]\n",
            " [1 1]\n",
            " [0 0]\n",
            " [1 1]\n",
            " [1 1]]\n"
          ]
        }
      ]
    },
    {
      "cell_type": "markdown",
      "source": [
        "## Save the Model"
      ],
      "metadata": {
        "id": "A-kSG9fPzRBu"
      }
    },
    {
      "cell_type": "code",
      "source": [
        "import pickle\n",
        "\n",
        "with open(\"classifier.pkl\", \"wb\") as pickle_out:\n",
        "  pickle.dump(classifier, pickle_out)\n",
        "  pickle_out.close()"
      ],
      "metadata": {
        "id": "7k6bE2jJzV0t"
      },
      "execution_count": 13,
      "outputs": []
    },
    {
      "cell_type": "markdown",
      "source": [
        "## Creating the Confusion Matrix"
      ],
      "metadata": {
        "id": "f9f029UDlP-p"
      }
    },
    {
      "cell_type": "code",
      "source": [
        "from sklearn.metrics import confusion_matrix, accuracy_score\n",
        "\n",
        "cm = confusion_matrix(y_test, y_pred)\n",
        "print(cm)\n",
        "accuracy_score(y_test,y_pred)"
      ],
      "metadata": {
        "id": "p8GPUQjVm6Hr",
        "outputId": "713987c4-9e61-46e0-d57e-e66838c70dd5",
        "colab": {
          "base_uri": "https://localhost:8080/"
        }
      },
      "execution_count": 10,
      "outputs": [
        {
          "output_type": "stream",
          "name": "stdout",
          "text": [
            "[[59  4]\n",
            " [ 3 34]]\n"
          ]
        },
        {
          "output_type": "execute_result",
          "data": {
            "text/plain": [
              "0.93"
            ]
          },
          "metadata": {},
          "execution_count": 10
        }
      ]
    },
    {
      "cell_type": "markdown",
      "source": [
        "## Visualizing the training set result"
      ],
      "metadata": {
        "id": "1gQpqSI3na1o"
      }
    },
    {
      "cell_type": "code",
      "source": [
        "from matplotlib.colors import ListedColormap\n",
        "X_set, y_set = sc.inverse_transform(X_test), y_test\n",
        "X1, X2 = np.meshgrid(np.arange(start = X_set[:, 0].min() - 10, stop = X_set[:, 0].max() + 10, step = 1),\n",
        "                     np.arange(start = X_set[:, 1].min() - 1000, stop = X_set[:, 1].max() + 1000, step = 1))\n",
        "plt.contourf(X1, X2, classifier.predict(sc.transform(np.array([X1.ravel(), X2.ravel()]).T)).reshape(X1.shape),\n",
        "             alpha = 0.75, cmap = ListedColormap(('red', 'green')))\n",
        "plt.xlim(X1.min(), X1.max())\n",
        "plt.ylim(X2.min(), X2.max())\n",
        "for i, j in enumerate(np.unique(y_set)):\n",
        "    plt.scatter(X_set[y_set == j, 0], X_set[y_set == j, 1], c = ListedColormap(('red', 'green'))(i), label = j)\n",
        "plt.title('K-NN (Test set)')\n",
        "plt.xlabel('Age')\n",
        "plt.ylabel('Estimated Salary')\n",
        "plt.legend()\n",
        "plt.show()"
      ],
      "metadata": {
        "id": "pNV7a7fDnhX_",
        "outputId": "ef054835-2aad-4c3d-b376-f0890c6afab9",
        "colab": {
          "base_uri": "https://localhost:8080/",
          "height": 350
        }
      },
      "execution_count": 12,
      "outputs": [
        {
          "output_type": "stream",
          "name": "stderr",
          "text": [
            "WARNING:matplotlib.axes._axes:*c* argument looks like a single numeric RGB or RGBA sequence, which should be avoided as value-mapping will have precedence in case its length matches with *x* & *y*.  Please use the *color* keyword-argument or provide a 2-D array with a single row if you intend to specify the same RGB or RGBA value for all points.\n",
            "WARNING:matplotlib.axes._axes:*c* argument looks like a single numeric RGB or RGBA sequence, which should be avoided as value-mapping will have precedence in case its length matches with *x* & *y*.  Please use the *color* keyword-argument or provide a 2-D array with a single row if you intend to specify the same RGB or RGBA value for all points.\n"
          ]
        },
        {
          "output_type": "display_data",
          "data": {
            "text/plain": [
              "<Figure size 432x288 with 1 Axes>"
            ],
            "image/png": "[encoded data removed]"
          },
          "metadata": {
            "needs_background": "light"
          }
        }
      ]
    },
    {
      "cell_type": "code",
      "source": [],
      "metadata": {
        "id": "39_Q1IG2npUA"
      },
      "execution_count": null,
      "outputs": []
    }
  ]
}