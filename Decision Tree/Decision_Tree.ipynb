{
  "nbformat": 4,
  "nbformat_minor": 0,
  "metadata": {
    "colab": {
      "name": "Decision_Tree.ipynb",
      "provenance": [],
      "toc_visible": true,
      "authorship_tag": "ABX9TyMtMlfkZ9C00On6d3Xo4IsR",
      "include_colab_link": true
    },
    "kernelspec": {
      "name": "python3",
      "display_name": "Python 3"
    },
    "language_info": {
      "name": "python"
    }
  },
  "cells": [
    {
      "cell_type": "markdown",
      "metadata": {
        "id": "view-in-github",
        "colab_type": "text"
      },
      "source": [
        "<a href=\"https://colab.research.google.com/github/Priyo-prog/Machine-Learning/blob/main/Decision%20Tree/Decision_Tree.ipynb\" target=\"_parent\"><img src=\"https://colab.research.google.com/assets/colab-badge.svg\" alt=\"Open In Colab\"/></a>"
      ]
    },
    {
      "cell_type": "markdown",
      "source": [
        "# Decision Tree Classification\n",
        "\n",
        "* In this lesson we are going to use **scikit-learn** and **Cost-Complexity Pruning** to build the Classification tree.\n",
        "* **Classification Trees** are exceptionally useful machine learning method when you need to know how the decisions are being made.\n"
      ],
      "metadata": {
        "id": "tgAkAq7C2FwW"
      }
    },
    {
      "cell_type": "markdown",
      "source": [
        "## Import libraries and modules"
      ],
      "metadata": {
        "id": "cWimZGRG4LkH"
      }
    },
    {
      "cell_type": "code",
      "source": [
        "import pandas as pd\n",
        "import numpy as np\n",
        "import matplotlib.pyplot as plt\n",
        "from sklearn.tree import DecisionTreeClassifier\n",
        "from sklearn.tree import plot_tree\n",
        "from sklearn.model_selection import train_test_split\n",
        "from sklearn.model_selection import cross_val_score\n",
        "from sklearn.metrics import confusion_matrix\n",
        "from sklearn.metrics import plot_confusion_matrix"
      ],
      "metadata": {
        "id": "OS7MbP9G5hE-"
      },
      "execution_count": 50,
      "outputs": []
    },
    {
      "cell_type": "markdown",
      "source": [
        "## Import the data\n",
        "\n",
        "* We are goin to load the dataset from [UCI Machine Learning Repository](https://archive.ics.uci.edu/ml/index.php) . Specifically we are going to use [Heart Disease Dataset](https://archive.ics.uci.edu/ml/machine-learning-databases/heart-disease/processed.cleveland.data). This dataset will allow us to predict if someone has heart disease based ojn their age, sex, blood pressure and variety of other metrics.\n",
        "\n",
        "* We need to replace the column numbers with the following column names:\n",
        " * age \n",
        " * sex \n",
        " * cp, chest pain\n",
        " * restbp, resting blood pressure (in mm Hg)\n",
        " * fbs, fasting blood sugar\n",
        " * restecg, resting electrocardiographic results\n",
        " * thalac, maximum heart rate achieved\n",
        " * exang, exercise induced angina\n",
        " * oldpeak, ST depression induced by exercise relative to rest \n",
        " * slope, the slope of the peak exercise ST segment\n",
        " * ca, number of major vessels (0-3) colored by fluroscopy\n",
        " * thal, this is short of thalium heart scan\n",
        " * hd, diagnosis of heart disease, the predicted attribute"
      ],
      "metadata": {
        "id": "rjhkBAda5y3R"
      }
    },
    {
      "cell_type": "code",
      "source": [
        "df = pd.read_csv('https://archive.ics.uci.edu/ml/machine-learning-databases/heart-disease/processed.cleveland.data', header=None)\n",
        "df.head()"
      ],
      "metadata": {
        "colab": {
          "base_uri": "https://localhost:8080/",
          "height": 206
        },
        "id": "1knZ3Sos60rU",
        "outputId": "d02f4586-4fe6-449d-8f77-656c9453fe38"
      },
      "execution_count": 51,
      "outputs": [
        {
          "output_type": "execute_result",
          "data": {
            "text/plain": [
              "     0    1    2      3      4    5    6      7    8    9    10   11   12  13\n",
              "0  63.0  1.0  1.0  145.0  233.0  1.0  2.0  150.0  0.0  2.3  3.0  0.0  6.0   0\n",
              "1  67.0  1.0  4.0  160.0  286.0  0.0  2.0  108.0  1.0  1.5  2.0  3.0  3.0   2\n",
              "2  67.0  1.0  4.0  120.0  229.0  0.0  2.0  129.0  1.0  2.6  2.0  2.0  7.0   1\n",
              "3  37.0  1.0  3.0  130.0  250.0  0.0  0.0  187.0  0.0  3.5  3.0  0.0  3.0   0\n",
              "4  41.0  0.0  2.0  130.0  204.0  0.0  2.0  172.0  0.0  1.4  1.0  0.0  3.0   0"
            ],
            "text/html": [
              "\n",
              "  <div id=\"df-5f84d357-d372-4ddb-9f89-4e2edcc8eeef\">\n",
              "    <div class=\"colab-df-container\">\n",
              "      <div>\n",
              "<style scoped>\n",
              "    .dataframe tbody tr th:only-of-type {\n",
              "        vertical-align: middle;\n",
              "    }\n",
              "\n",
              "    .dataframe tbody tr th {\n",
              "        vertical-align: top;\n",
              "    }\n",
              "\n",
              "    .dataframe thead th {\n",
              "        text-align: right;\n",
              "    }\n",
              "</style>\n",
              "<table border=\"1\" class=\"dataframe\">\n",
              "  <thead>\n",
              "    <tr style=\"text-align: right;\">\n",
              "      <th></th>\n",
              "      <th>0</th>\n",
              "      <th>1</th>\n",
              "      <th>2</th>\n",
              "      <th>3</th>\n",
              "      <th>4</th>\n",
              "      <th>5</th>\n",
              "      <th>6</th>\n",
              "      <th>7</th>\n",
              "      <th>8</th>\n",
              "      <th>9</th>\n",
              "      <th>10</th>\n",
              "      <th>11</th>\n",
              "      <th>12</th>\n",
              "      <th>13</th>\n",
              "    </tr>\n",
              "  </thead>\n",
              "  <tbody>\n",
              "    <tr>\n",
              "      <th>0</th>\n",
              "      <td>63.0</td>\n",
              "      <td>1.0</td>\n",
              "      <td>1.0</td>\n",
              "      <td>145.0</td>\n",
              "      <td>233.0</td>\n",
              "      <td>1.0</td>\n",
              "      <td>2.0</td>\n",
              "      <td>150.0</td>\n",
              "      <td>0.0</td>\n",
              "      <td>2.3</td>\n",
              "      <td>3.0</td>\n",
              "      <td>0.0</td>\n",
              "      <td>6.0</td>\n",
              "      <td>0</td>\n",
              "    </tr>\n",
              "    <tr>\n",
              "      <th>1</th>\n",
              "      <td>67.0</td>\n",
              "      <td>1.0</td>\n",
              "      <td>4.0</td>\n",
              "      <td>160.0</td>\n",
              "      <td>286.0</td>\n",
              "      <td>0.0</td>\n",
              "      <td>2.0</td>\n",
              "      <td>108.0</td>\n",
              "      <td>1.0</td>\n",
              "      <td>1.5</td>\n",
              "      <td>2.0</td>\n",
              "      <td>3.0</td>\n",
              "      <td>3.0</td>\n",
              "      <td>2</td>\n",
              "    </tr>\n",
              "    <tr>\n",
              "      <th>2</th>\n",
              "      <td>67.0</td>\n",
              "      <td>1.0</td>\n",
              "      <td>4.0</td>\n",
              "      <td>120.0</td>\n",
              "      <td>229.0</td>\n",
              "      <td>0.0</td>\n",
              "      <td>2.0</td>\n",
              "      <td>129.0</td>\n",
              "      <td>1.0</td>\n",
              "      <td>2.6</td>\n",
              "      <td>2.0</td>\n",
              "      <td>2.0</td>\n",
              "      <td>7.0</td>\n",
              "      <td>1</td>\n",
              "    </tr>\n",
              "    <tr>\n",
              "      <th>3</th>\n",
              "      <td>37.0</td>\n",
              "      <td>1.0</td>\n",
              "      <td>3.0</td>\n",
              "      <td>130.0</td>\n",
              "      <td>250.0</td>\n",
              "      <td>0.0</td>\n",
              "      <td>0.0</td>\n",
              "      <td>187.0</td>\n",
              "      <td>0.0</td>\n",
              "      <td>3.5</td>\n",
              "      <td>3.0</td>\n",
              "      <td>0.0</td>\n",
              "      <td>3.0</td>\n",
              "      <td>0</td>\n",
              "    </tr>\n",
              "    <tr>\n",
              "      <th>4</th>\n",
              "      <td>41.0</td>\n",
              "      <td>0.0</td>\n",
              "      <td>2.0</td>\n",
              "      <td>130.0</td>\n",
              "      <td>204.0</td>\n",
              "      <td>0.0</td>\n",
              "      <td>2.0</td>\n",
              "      <td>172.0</td>\n",
              "      <td>0.0</td>\n",
              "      <td>1.4</td>\n",
              "      <td>1.0</td>\n",
              "      <td>0.0</td>\n",
              "      <td>3.0</td>\n",
              "      <td>0</td>\n",
              "    </tr>\n",
              "  </tbody>\n",
              "</table>\n",
              "</div>\n",
              "      <button class=\"colab-df-convert\" onclick=\"convertToInteractive('df-5f84d357-d372-4ddb-9f89-4e2edcc8eeef')\"\n",
              "              title=\"Convert this dataframe to an interactive table.\"\n",
              "              style=\"display:none;\">\n",
              "        \n",
              "  <svg xmlns=\"http://www.w3.org/2000/svg\" height=\"24px\"viewBox=\"0 0 24 24\"\n",
              "       width=\"24px\">\n",
              "    <path d=\"M0 0h24v24H0V0z\" fill=\"none\"/>\n",
              "    <path d=\"M18.56 5.44l.94 2.06.94-2.06 2.06-.94-2.06-.94-.94-2.06-.94 2.06-2.06.94zm-11 1L8.5 8.5l.94-2.06 2.06-.94-2.06-.94L8.5 2.5l-.94 2.06-2.06.94zm10 10l.94 2.06.94-2.06 2.06-.94-2.06-.94-.94-2.06-.94 2.06-2.06.94z\"/><path d=\"M17.41 7.96l-1.37-1.37c-.4-.4-.92-.59-1.43-.59-.52 0-1.04.2-1.43.59L10.3 9.45l-7.72 7.72c-.78.78-.78 2.05 0 2.83L4 21.41c.39.39.9.59 1.41.59.51 0 1.02-.2 1.41-.59l7.78-7.78 2.81-2.81c.8-.78.8-2.07 0-2.86zM5.41 20L4 18.59l7.72-7.72 1.47 1.35L5.41 20z\"/>\n",
              "  </svg>\n",
              "      </button>\n",
              "      \n",
              "  <style>\n",
              "    .colab-df-container {\n",
              "      display:flex;\n",
              "      flex-wrap:wrap;\n",
              "      gap: 12px;\n",
              "    }\n",
              "\n",
              "    .colab-df-convert {\n",
              "      background-color: #E8F0FE;\n",
              "      border: none;\n",
              "      border-radius: 50%;\n",
              "      cursor: pointer;\n",
              "      display: none;\n",
              "      fill: #1967D2;\n",
              "      height: 32px;\n",
              "      padding: 0 0 0 0;\n",
              "      width: 32px;\n",
              "    }\n",
              "\n",
              "    .colab-df-convert:hover {\n",
              "      background-color: #E2EBFA;\n",
              "      box-shadow: 0px 1px 2px rgba(60, 64, 67, 0.3), 0px 1px 3px 1px rgba(60, 64, 67, 0.15);\n",
              "      fill: #174EA6;\n",
              "    }\n",
              "\n",
              "    [theme=dark] .colab-df-convert {\n",
              "      background-color: #3B4455;\n",
              "      fill: #D2E3FC;\n",
              "    }\n",
              "\n",
              "    [theme=dark] .colab-df-convert:hover {\n",
              "      background-color: #434B5C;\n",
              "      box-shadow: 0px 1px 3px 1px rgba(0, 0, 0, 0.15);\n",
              "      filter: drop-shadow(0px 1px 2px rgba(0, 0, 0, 0.3));\n",
              "      fill: #FFFFFF;\n",
              "    }\n",
              "  </style>\n",
              "\n",
              "      <script>\n",
              "        const buttonEl =\n",
              "          document.querySelector('#df-5f84d357-d372-4ddb-9f89-4e2edcc8eeef button.colab-df-convert');\n",
              "        buttonEl.style.display =\n",
              "          google.colab.kernel.accessAllowed ? 'block' : 'none';\n",
              "\n",
              "        async function convertToInteractive(key) {\n",
              "          const element = document.querySelector('#df-5f84d357-d372-4ddb-9f89-4e2edcc8eeef');\n",
              "          const dataTable =\n",
              "            await google.colab.kernel.invokeFunction('convertToInteractive',\n",
              "                                                     [key], {});\n",
              "          if (!dataTable) return;\n",
              "\n",
              "          const docLinkHtml = 'Like what you see? Visit the ' +\n",
              "            '<a target=\"_blank\" href=https://colab.research.google.com/notebooks/data_table.ipynb>data table notebook</a>'\n",
              "            + ' to learn more about interactive tables.';\n",
              "          element.innerHTML = '';\n",
              "          dataTable['output_type'] = 'display_data';\n",
              "          await google.colab.output.renderOutput(dataTable, element);\n",
              "          const docLink = document.createElement('div');\n",
              "          docLink.innerHTML = docLinkHtml;\n",
              "          element.appendChild(docLink);\n",
              "        }\n",
              "      </script>\n",
              "    </div>\n",
              "  </div>\n",
              "  "
            ]
          },
          "metadata": {},
          "execution_count": 51
        }
      ]
    },
    {
      "cell_type": "code",
      "source": [
        "## Change the column numbers to column names\n",
        "df.columns = ['age',\n",
        "              'sex',\n",
        "              'cp',\n",
        "              'restbp',\n",
        "              'chol',\n",
        "              'fbs',\n",
        "              'restecg',\n",
        "              'thalach',\n",
        "              'exang',\n",
        "              'oldpeak',\n",
        "              'slope',\n",
        "              'ca',\n",
        "              'thal',\n",
        "              'hd']\n",
        "df.head()              "
      ],
      "metadata": {
        "colab": {
          "base_uri": "https://localhost:8080/",
          "height": 206
        },
        "id": "nfFpDRfv95ox",
        "outputId": "9be2bd55-b88b-490c-b90c-20560c1aa15f"
      },
      "execution_count": 52,
      "outputs": [
        {
          "output_type": "execute_result",
          "data": {
            "text/plain": [
              "    age  sex   cp  restbp   chol  fbs  restecg  thalach  exang  oldpeak  \\\n",
              "0  63.0  1.0  1.0   145.0  233.0  1.0      2.0    150.0    0.0      2.3   \n",
              "1  67.0  1.0  4.0   160.0  286.0  0.0      2.0    108.0    1.0      1.5   \n",
              "2  67.0  1.0  4.0   120.0  229.0  0.0      2.0    129.0    1.0      2.6   \n",
              "3  37.0  1.0  3.0   130.0  250.0  0.0      0.0    187.0    0.0      3.5   \n",
              "4  41.0  0.0  2.0   130.0  204.0  0.0      2.0    172.0    0.0      1.4   \n",
              "\n",
              "   slope   ca thal  hd  \n",
              "0    3.0  0.0  6.0   0  \n",
              "1    2.0  3.0  3.0   2  \n",
              "2    2.0  2.0  7.0   1  \n",
              "3    3.0  0.0  3.0   0  \n",
              "4    1.0  0.0  3.0   0  "
            ],
            "text/html": [
              "\n",
              "  <div id=\"df-169a015e-e47d-4d8b-9c84-261070f535a7\">\n",
              "    <div class=\"colab-df-container\">\n",
              "      <div>\n",
              "<style scoped>\n",
              "    .dataframe tbody tr th:only-of-type {\n",
              "        vertical-align: middle;\n",
              "    }\n",
              "\n",
              "    .dataframe tbody tr th {\n",
              "        vertical-align: top;\n",
              "    }\n",
              "\n",
              "    .dataframe thead th {\n",
              "        text-align: right;\n",
              "    }\n",
              "</style>\n",
              "<table border=\"1\" class=\"dataframe\">\n",
              "  <thead>\n",
              "    <tr style=\"text-align: right;\">\n",
              "      <th></th>\n",
              "      <th>age</th>\n",
              "      <th>sex</th>\n",
              "      <th>cp</th>\n",
              "      <th>restbp</th>\n",
              "      <th>chol</th>\n",
              "      <th>fbs</th>\n",
              "      <th>restecg</th>\n",
              "      <th>thalach</th>\n",
              "      <th>exang</th>\n",
              "      <th>oldpeak</th>\n",
              "      <th>slope</th>\n",
              "      <th>ca</th>\n",
              "      <th>thal</th>\n",
              "      <th>hd</th>\n",
              "    </tr>\n",
              "  </thead>\n",
              "  <tbody>\n",
              "    <tr>\n",
              "      <th>0</th>\n",
              "      <td>63.0</td>\n",
              "      <td>1.0</td>\n",
              "      <td>1.0</td>\n",
              "      <td>145.0</td>\n",
              "      <td>233.0</td>\n",
              "      <td>1.0</td>\n",
              "      <td>2.0</td>\n",
              "      <td>150.0</td>\n",
              "      <td>0.0</td>\n",
              "      <td>2.3</td>\n",
              "      <td>3.0</td>\n",
              "      <td>0.0</td>\n",
              "      <td>6.0</td>\n",
              "      <td>0</td>\n",
              "    </tr>\n",
              "    <tr>\n",
              "      <th>1</th>\n",
              "      <td>67.0</td>\n",
              "      <td>1.0</td>\n",
              "      <td>4.0</td>\n",
              "      <td>160.0</td>\n",
              "      <td>286.0</td>\n",
              "      <td>0.0</td>\n",
              "      <td>2.0</td>\n",
              "      <td>108.0</td>\n",
              "      <td>1.0</td>\n",
              "      <td>1.5</td>\n",
              "      <td>2.0</td>\n",
              "      <td>3.0</td>\n",
              "      <td>3.0</td>\n",
              "      <td>2</td>\n",
              "    </tr>\n",
              "    <tr>\n",
              "      <th>2</th>\n",
              "      <td>67.0</td>\n",
              "      <td>1.0</td>\n",
              "      <td>4.0</td>\n",
              "      <td>120.0</td>\n",
              "      <td>229.0</td>\n",
              "      <td>0.0</td>\n",
              "      <td>2.0</td>\n",
              "      <td>129.0</td>\n",
              "      <td>1.0</td>\n",
              "      <td>2.6</td>\n",
              "      <td>2.0</td>\n",
              "      <td>2.0</td>\n",
              "      <td>7.0</td>\n",
              "      <td>1</td>\n",
              "    </tr>\n",
              "    <tr>\n",
              "      <th>3</th>\n",
              "      <td>37.0</td>\n",
              "      <td>1.0</td>\n",
              "      <td>3.0</td>\n",
              "      <td>130.0</td>\n",
              "      <td>250.0</td>\n",
              "      <td>0.0</td>\n",
              "      <td>0.0</td>\n",
              "      <td>187.0</td>\n",
              "      <td>0.0</td>\n",
              "      <td>3.5</td>\n",
              "      <td>3.0</td>\n",
              "      <td>0.0</td>\n",
              "      <td>3.0</td>\n",
              "      <td>0</td>\n",
              "    </tr>\n",
              "    <tr>\n",
              "      <th>4</th>\n",
              "      <td>41.0</td>\n",
              "      <td>0.0</td>\n",
              "      <td>2.0</td>\n",
              "      <td>130.0</td>\n",
              "      <td>204.0</td>\n",
              "      <td>0.0</td>\n",
              "      <td>2.0</td>\n",
              "      <td>172.0</td>\n",
              "      <td>0.0</td>\n",
              "      <td>1.4</td>\n",
              "      <td>1.0</td>\n",
              "      <td>0.0</td>\n",
              "      <td>3.0</td>\n",
              "      <td>0</td>\n",
              "    </tr>\n",
              "  </tbody>\n",
              "</table>\n",
              "</div>\n",
              "      <button class=\"colab-df-convert\" onclick=\"convertToInteractive('df-169a015e-e47d-4d8b-9c84-261070f535a7')\"\n",
              "              title=\"Convert this dataframe to an interactive table.\"\n",
              "              style=\"display:none;\">\n",
              "        \n",
              "  <svg xmlns=\"http://www.w3.org/2000/svg\" height=\"24px\"viewBox=\"0 0 24 24\"\n",
              "       width=\"24px\">\n",
              "    <path d=\"M0 0h24v24H0V0z\" fill=\"none\"/>\n",
              "    <path d=\"M18.56 5.44l.94 2.06.94-2.06 2.06-.94-2.06-.94-.94-2.06-.94 2.06-2.06.94zm-11 1L8.5 8.5l.94-2.06 2.06-.94-2.06-.94L8.5 2.5l-.94 2.06-2.06.94zm10 10l.94 2.06.94-2.06 2.06-.94-2.06-.94-.94-2.06-.94 2.06-2.06.94z\"/><path d=\"M17.41 7.96l-1.37-1.37c-.4-.4-.92-.59-1.43-.59-.52 0-1.04.2-1.43.59L10.3 9.45l-7.72 7.72c-.78.78-.78 2.05 0 2.83L4 21.41c.39.39.9.59 1.41.59.51 0 1.02-.2 1.41-.59l7.78-7.78 2.81-2.81c.8-.78.8-2.07 0-2.86zM5.41 20L4 18.59l7.72-7.72 1.47 1.35L5.41 20z\"/>\n",
              "  </svg>\n",
              "      </button>\n",
              "      \n",
              "  <style>\n",
              "    .colab-df-container {\n",
              "      display:flex;\n",
              "      flex-wrap:wrap;\n",
              "      gap: 12px;\n",
              "    }\n",
              "\n",
              "    .colab-df-convert {\n",
              "      background-color: #E8F0FE;\n",
              "      border: none;\n",
              "      border-radius: 50%;\n",
              "      cursor: pointer;\n",
              "      display: none;\n",
              "      fill: #1967D2;\n",
              "      height: 32px;\n",
              "      padding: 0 0 0 0;\n",
              "      width: 32px;\n",
              "    }\n",
              "\n",
              "    .colab-df-convert:hover {\n",
              "      background-color: #E2EBFA;\n",
              "      box-shadow: 0px 1px 2px rgba(60, 64, 67, 0.3), 0px 1px 3px 1px rgba(60, 64, 67, 0.15);\n",
              "      fill: #174EA6;\n",
              "    }\n",
              "\n",
              "    [theme=dark] .colab-df-convert {\n",
              "      background-color: #3B4455;\n",
              "      fill: #D2E3FC;\n",
              "    }\n",
              "\n",
              "    [theme=dark] .colab-df-convert:hover {\n",
              "      background-color: #434B5C;\n",
              "      box-shadow: 0px 1px 3px 1px rgba(0, 0, 0, 0.15);\n",
              "      filter: drop-shadow(0px 1px 2px rgba(0, 0, 0, 0.3));\n",
              "      fill: #FFFFFF;\n",
              "    }\n",
              "  </style>\n",
              "\n",
              "      <script>\n",
              "        const buttonEl =\n",
              "          document.querySelector('#df-169a015e-e47d-4d8b-9c84-261070f535a7 button.colab-df-convert');\n",
              "        buttonEl.style.display =\n",
              "          google.colab.kernel.accessAllowed ? 'block' : 'none';\n",
              "\n",
              "        async function convertToInteractive(key) {\n",
              "          const element = document.querySelector('#df-169a015e-e47d-4d8b-9c84-261070f535a7');\n",
              "          const dataTable =\n",
              "            await google.colab.kernel.invokeFunction('convertToInteractive',\n",
              "                                                     [key], {});\n",
              "          if (!dataTable) return;\n",
              "\n",
              "          const docLinkHtml = 'Like what you see? Visit the ' +\n",
              "            '<a target=\"_blank\" href=https://colab.research.google.com/notebooks/data_table.ipynb>data table notebook</a>'\n",
              "            + ' to learn more about interactive tables.';\n",
              "          element.innerHTML = '';\n",
              "          dataTable['output_type'] = 'display_data';\n",
              "          await google.colab.output.renderOutput(dataTable, element);\n",
              "          const docLink = document.createElement('div');\n",
              "          docLink.innerHTML = docLinkHtml;\n",
              "          element.appendChild(docLink);\n",
              "        }\n",
              "      </script>\n",
              "    </div>\n",
              "  </div>\n",
              "  "
            ]
          },
          "metadata": {},
          "execution_count": 52
        }
      ]
    },
    {
      "cell_type": "markdown",
      "source": [
        "## Missing Data Part 1 : Identifying missing data\n",
        "\n",
        "This part will involve the process of identifying and dealing with **Missing Data**.\n",
        "\n",
        "**Missing Data** is simply a blank space, or a surrogate value like **NA**, that indicates that we failed to collect data for one of the features.\n",
        "\n",
        "There are two main ways to deal with missing data:\n",
        "1. We can remove the rows that contain missing data from the dataset. This is relatively easy to do, but it wastes all other values that we collected.\n",
        "\n",
        "2. We can **impute** the values that are missing. In this context **impute** is just a fancy way of saying \"we can make an educated guess about what the value should be\".\n"
      ],
      "metadata": {
        "id": "ULupf2r6OKvJ"
      }
    },
    {
      "cell_type": "code",
      "source": [
        "## dtypes tell us the \"data type\" for each column\n",
        "df.dtypes"
      ],
      "metadata": {
        "colab": {
          "base_uri": "https://localhost:8080/"
        },
        "id": "dqdHDywrQc9Q",
        "outputId": "c6c76cc5-36dc-4013-b7b0-176f539fc506"
      },
      "execution_count": 53,
      "outputs": [
        {
          "output_type": "execute_result",
          "data": {
            "text/plain": [
              "age        float64\n",
              "sex        float64\n",
              "cp         float64\n",
              "restbp     float64\n",
              "chol       float64\n",
              "fbs        float64\n",
              "restecg    float64\n",
              "thalach    float64\n",
              "exang      float64\n",
              "oldpeak    float64\n",
              "slope      float64\n",
              "ca          object\n",
              "thal        object\n",
              "hd           int64\n",
              "dtype: object"
            ]
          },
          "metadata": {},
          "execution_count": 53
        }
      ]
    },
    {
      "cell_type": "markdown",
      "source": [
        "We can see that they are almost all float64, however columns like **ca** and **thal** have object type and one column , **hd** has int64.\n",
        "\n",
        "Object datatypes are used when there are mixture of things, like a mixture of numbers and letters. "
      ],
      "metadata": {
        "id": "vDm5317oQrg9"
      }
    },
    {
      "cell_type": "code",
      "source": [
        "# print out unique values in the column called 'ca'\n",
        "df['ca'].unique()"
      ],
      "metadata": {
        "id": "JNO2NoxDR5_r",
        "outputId": "13b0c638-7279-4324-96dd-b0a96cefce7d",
        "colab": {
          "base_uri": "https://localhost:8080/"
        }
      },
      "execution_count": 54,
      "outputs": [
        {
          "output_type": "execute_result",
          "data": {
            "text/plain": [
              "array(['0.0', '3.0', '2.0', '1.0', '?'], dtype=object)"
            ]
          },
          "metadata": {},
          "execution_count": 54
        }
      ]
    },
    {
      "cell_type": "markdown",
      "source": [
        "## Missing Data Part 2 : Dealing with missing data\n",
        "\n",
        "Since scikit-learn classification trees do not support datasets with missing values, we need to figure out what to do these question marks. We can either delete these patients from the training dataset, or impute values for the missing data."
      ],
      "metadata": {
        "id": "PrabUGjWSH0q"
      }
    },
    {
      "cell_type": "code",
      "source": [
        "## print the number of rows that contain missing values\n",
        "##\n",
        "## loc[], short for \"location\", let's us specify which rows we want..\n",
        "## and so we say we want any row with '?' in column 'ca'\n",
        "## OR\n",
        "## any row with '?' in column 'thal'\n",
        "##\n",
        "## 'len' short for \"length\", prints out the number of rows\n",
        "len(df.loc[(df['ca']=='?')\n",
        "            |\n",
        "           (df['thal']=='?')])"
      ],
      "metadata": {
        "id": "AB7n676l93VG",
        "outputId": "f7274e7f-3c49-4514-9847-3d7c7f245a4b",
        "colab": {
          "base_uri": "https://localhost:8080/"
        }
      },
      "execution_count": 55,
      "outputs": [
        {
          "output_type": "execute_result",
          "data": {
            "text/plain": [
              "6"
            ]
          },
          "metadata": {},
          "execution_count": 55
        }
      ]
    },
    {
      "cell_type": "markdown",
      "source": [
        "Since only 6 rows have missing values, let's look at them"
      ],
      "metadata": {
        "id": "_dXRDgDY_sDK"
      }
    },
    {
      "cell_type": "code",
      "source": [
        "df.loc[(df['ca']=='?')\n",
        "            |\n",
        "           (df['thal']=='?')]"
      ],
      "metadata": {
        "id": "bAQpWTzn_2dU",
        "outputId": "3376541c-4522-4644-825e-3e692fa37db6",
        "colab": {
          "base_uri": "https://localhost:8080/",
          "height": 238
        }
      },
      "execution_count": 56,
      "outputs": [
        {
          "output_type": "execute_result",
          "data": {
            "text/plain": [
              "      age  sex   cp  restbp   chol  fbs  restecg  thalach  exang  oldpeak  \\\n",
              "87   53.0  0.0  3.0   128.0  216.0  0.0      2.0    115.0    0.0      0.0   \n",
              "166  52.0  1.0  3.0   138.0  223.0  0.0      0.0    169.0    0.0      0.0   \n",
              "192  43.0  1.0  4.0   132.0  247.0  1.0      2.0    143.0    1.0      0.1   \n",
              "266  52.0  1.0  4.0   128.0  204.0  1.0      0.0    156.0    1.0      1.0   \n",
              "287  58.0  1.0  2.0   125.0  220.0  0.0      0.0    144.0    0.0      0.4   \n",
              "302  38.0  1.0  3.0   138.0  175.0  0.0      0.0    173.0    0.0      0.0   \n",
              "\n",
              "     slope   ca thal  hd  \n",
              "87     1.0  0.0    ?   0  \n",
              "166    1.0    ?  3.0   0  \n",
              "192    2.0    ?  7.0   1  \n",
              "266    2.0  0.0    ?   2  \n",
              "287    2.0    ?  7.0   0  \n",
              "302    1.0    ?  3.0   0  "
            ],
            "text/html": [
              "\n",
              "  <div id=\"df-906c0d97-ad69-4786-88a9-135b028cf7f7\">\n",
              "    <div class=\"colab-df-container\">\n",
              "      <div>\n",
              "<style scoped>\n",
              "    .dataframe tbody tr th:only-of-type {\n",
              "        vertical-align: middle;\n",
              "    }\n",
              "\n",
              "    .dataframe tbody tr th {\n",
              "        vertical-align: top;\n",
              "    }\n",
              "\n",
              "    .dataframe thead th {\n",
              "        text-align: right;\n",
              "    }\n",
              "</style>\n",
              "<table border=\"1\" class=\"dataframe\">\n",
              "  <thead>\n",
              "    <tr style=\"text-align: right;\">\n",
              "      <th></th>\n",
              "      <th>age</th>\n",
              "      <th>sex</th>\n",
              "      <th>cp</th>\n",
              "      <th>restbp</th>\n",
              "      <th>chol</th>\n",
              "      <th>fbs</th>\n",
              "      <th>restecg</th>\n",
              "      <th>thalach</th>\n",
              "      <th>exang</th>\n",
              "      <th>oldpeak</th>\n",
              "      <th>slope</th>\n",
              "      <th>ca</th>\n",
              "      <th>thal</th>\n",
              "      <th>hd</th>\n",
              "    </tr>\n",
              "  </thead>\n",
              "  <tbody>\n",
              "    <tr>\n",
              "      <th>87</th>\n",
              "      <td>53.0</td>\n",
              "      <td>0.0</td>\n",
              "      <td>3.0</td>\n",
              "      <td>128.0</td>\n",
              "      <td>216.0</td>\n",
              "      <td>0.0</td>\n",
              "      <td>2.0</td>\n",
              "      <td>115.0</td>\n",
              "      <td>0.0</td>\n",
              "      <td>0.0</td>\n",
              "      <td>1.0</td>\n",
              "      <td>0.0</td>\n",
              "      <td>?</td>\n",
              "      <td>0</td>\n",
              "    </tr>\n",
              "    <tr>\n",
              "      <th>166</th>\n",
              "      <td>52.0</td>\n",
              "      <td>1.0</td>\n",
              "      <td>3.0</td>\n",
              "      <td>138.0</td>\n",
              "      <td>223.0</td>\n",
              "      <td>0.0</td>\n",
              "      <td>0.0</td>\n",
              "      <td>169.0</td>\n",
              "      <td>0.0</td>\n",
              "      <td>0.0</td>\n",
              "      <td>1.0</td>\n",
              "      <td>?</td>\n",
              "      <td>3.0</td>\n",
              "      <td>0</td>\n",
              "    </tr>\n",
              "    <tr>\n",
              "      <th>192</th>\n",
              "      <td>43.0</td>\n",
              "      <td>1.0</td>\n",
              "      <td>4.0</td>\n",
              "      <td>132.0</td>\n",
              "      <td>247.0</td>\n",
              "      <td>1.0</td>\n",
              "      <td>2.0</td>\n",
              "      <td>143.0</td>\n",
              "      <td>1.0</td>\n",
              "      <td>0.1</td>\n",
              "      <td>2.0</td>\n",
              "      <td>?</td>\n",
              "      <td>7.0</td>\n",
              "      <td>1</td>\n",
              "    </tr>\n",
              "    <tr>\n",
              "      <th>266</th>\n",
              "      <td>52.0</td>\n",
              "      <td>1.0</td>\n",
              "      <td>4.0</td>\n",
              "      <td>128.0</td>\n",
              "      <td>204.0</td>\n",
              "      <td>1.0</td>\n",
              "      <td>0.0</td>\n",
              "      <td>156.0</td>\n",
              "      <td>1.0</td>\n",
              "      <td>1.0</td>\n",
              "      <td>2.0</td>\n",
              "      <td>0.0</td>\n",
              "      <td>?</td>\n",
              "      <td>2</td>\n",
              "    </tr>\n",
              "    <tr>\n",
              "      <th>287</th>\n",
              "      <td>58.0</td>\n",
              "      <td>1.0</td>\n",
              "      <td>2.0</td>\n",
              "      <td>125.0</td>\n",
              "      <td>220.0</td>\n",
              "      <td>0.0</td>\n",
              "      <td>0.0</td>\n",
              "      <td>144.0</td>\n",
              "      <td>0.0</td>\n",
              "      <td>0.4</td>\n",
              "      <td>2.0</td>\n",
              "      <td>?</td>\n",
              "      <td>7.0</td>\n",
              "      <td>0</td>\n",
              "    </tr>\n",
              "    <tr>\n",
              "      <th>302</th>\n",
              "      <td>38.0</td>\n",
              "      <td>1.0</td>\n",
              "      <td>3.0</td>\n",
              "      <td>138.0</td>\n",
              "      <td>175.0</td>\n",
              "      <td>0.0</td>\n",
              "      <td>0.0</td>\n",
              "      <td>173.0</td>\n",
              "      <td>0.0</td>\n",
              "      <td>0.0</td>\n",
              "      <td>1.0</td>\n",
              "      <td>?</td>\n",
              "      <td>3.0</td>\n",
              "      <td>0</td>\n",
              "    </tr>\n",
              "  </tbody>\n",
              "</table>\n",
              "</div>\n",
              "      <button class=\"colab-df-convert\" onclick=\"convertToInteractive('df-906c0d97-ad69-4786-88a9-135b028cf7f7')\"\n",
              "              title=\"Convert this dataframe to an interactive table.\"\n",
              "              style=\"display:none;\">\n",
              "        \n",
              "  <svg xmlns=\"http://www.w3.org/2000/svg\" height=\"24px\"viewBox=\"0 0 24 24\"\n",
              "       width=\"24px\">\n",
              "    <path d=\"M0 0h24v24H0V0z\" fill=\"none\"/>\n",
              "    <path d=\"M18.56 5.44l.94 2.06.94-2.06 2.06-.94-2.06-.94-.94-2.06-.94 2.06-2.06.94zm-11 1L8.5 8.5l.94-2.06 2.06-.94-2.06-.94L8.5 2.5l-.94 2.06-2.06.94zm10 10l.94 2.06.94-2.06 2.06-.94-2.06-.94-.94-2.06-.94 2.06-2.06.94z\"/><path d=\"M17.41 7.96l-1.37-1.37c-.4-.4-.92-.59-1.43-.59-.52 0-1.04.2-1.43.59L10.3 9.45l-7.72 7.72c-.78.78-.78 2.05 0 2.83L4 21.41c.39.39.9.59 1.41.59.51 0 1.02-.2 1.41-.59l7.78-7.78 2.81-2.81c.8-.78.8-2.07 0-2.86zM5.41 20L4 18.59l7.72-7.72 1.47 1.35L5.41 20z\"/>\n",
              "  </svg>\n",
              "      </button>\n",
              "      \n",
              "  <style>\n",
              "    .colab-df-container {\n",
              "      display:flex;\n",
              "      flex-wrap:wrap;\n",
              "      gap: 12px;\n",
              "    }\n",
              "\n",
              "    .colab-df-convert {\n",
              "      background-color: #E8F0FE;\n",
              "      border: none;\n",
              "      border-radius: 50%;\n",
              "      cursor: pointer;\n",
              "      display: none;\n",
              "      fill: #1967D2;\n",
              "      height: 32px;\n",
              "      padding: 0 0 0 0;\n",
              "      width: 32px;\n",
              "    }\n",
              "\n",
              "    .colab-df-convert:hover {\n",
              "      background-color: #E2EBFA;\n",
              "      box-shadow: 0px 1px 2px rgba(60, 64, 67, 0.3), 0px 1px 3px 1px rgba(60, 64, 67, 0.15);\n",
              "      fill: #174EA6;\n",
              "    }\n",
              "\n",
              "    [theme=dark] .colab-df-convert {\n",
              "      background-color: #3B4455;\n",
              "      fill: #D2E3FC;\n",
              "    }\n",
              "\n",
              "    [theme=dark] .colab-df-convert:hover {\n",
              "      background-color: #434B5C;\n",
              "      box-shadow: 0px 1px 3px 1px rgba(0, 0, 0, 0.15);\n",
              "      filter: drop-shadow(0px 1px 2px rgba(0, 0, 0, 0.3));\n",
              "      fill: #FFFFFF;\n",
              "    }\n",
              "  </style>\n",
              "\n",
              "      <script>\n",
              "        const buttonEl =\n",
              "          document.querySelector('#df-906c0d97-ad69-4786-88a9-135b028cf7f7 button.colab-df-convert');\n",
              "        buttonEl.style.display =\n",
              "          google.colab.kernel.accessAllowed ? 'block' : 'none';\n",
              "\n",
              "        async function convertToInteractive(key) {\n",
              "          const element = document.querySelector('#df-906c0d97-ad69-4786-88a9-135b028cf7f7');\n",
              "          const dataTable =\n",
              "            await google.colab.kernel.invokeFunction('convertToInteractive',\n",
              "                                                     [key], {});\n",
              "          if (!dataTable) return;\n",
              "\n",
              "          const docLinkHtml = 'Like what you see? Visit the ' +\n",
              "            '<a target=\"_blank\" href=https://colab.research.google.com/notebooks/data_table.ipynb>data table notebook</a>'\n",
              "            + ' to learn more about interactive tables.';\n",
              "          element.innerHTML = '';\n",
              "          dataTable['output_type'] = 'display_data';\n",
              "          await google.colab.output.renderOutput(dataTable, element);\n",
              "          const docLink = document.createElement('div');\n",
              "          docLink.innerHTML = docLinkHtml;\n",
              "          element.appendChild(docLink);\n",
              "        }\n",
              "      </script>\n",
              "    </div>\n",
              "  </div>\n",
              "  "
            ]
          },
          "metadata": {},
          "execution_count": 56
        }
      ]
    },
    {
      "cell_type": "markdown",
      "source": [
        "Let's count the number of rows in full dataset"
      ],
      "metadata": {
        "id": "RPRE76X0_6b5"
      }
    },
    {
      "cell_type": "code",
      "source": [
        "len(df)"
      ],
      "metadata": {
        "id": "7oBVNlUZAHd-",
        "outputId": "ba14d43f-602b-43d4-e23d-cb9feecd64e1",
        "colab": {
          "base_uri": "https://localhost:8080/"
        }
      },
      "execution_count": 57,
      "outputs": [
        {
          "output_type": "execute_result",
          "data": {
            "text/plain": [
              "303"
            ]
          },
          "metadata": {},
          "execution_count": 57
        }
      ]
    },
    {
      "cell_type": "markdown",
      "source": [
        "So 6 of **303** rows, or **2%** contain missing values. Since **303 - 6 = 297**, and **297** is plenty of data to build classification tree, we will remove the rows with missing values, rather than try to impute their values."
      ],
      "metadata": {
        "id": "DtgJb7I5AJL2"
      }
    },
    {
      "cell_type": "code",
      "source": [
        "## use loc[] to select all the rows that do not contain missing values \n",
        "## annd save them in a new dataframe called \"df_no_missing\"\n",
        "df_no_missing = df.loc[(df['ca'] != '?')\n",
        "                       & \n",
        "                       (df['thal'] != '?')]"
      ],
      "metadata": {
        "id": "PaEBm4ZTCFIy"
      },
      "execution_count": 58,
      "outputs": []
    },
    {
      "cell_type": "code",
      "source": [
        "len(df_no_missing)"
      ],
      "metadata": {
        "id": "pNzVjZgqC404",
        "colab": {
          "base_uri": "https://localhost:8080/"
        },
        "outputId": "4c2e7946-eb62-4fc0-f894-b7527870e6ae"
      },
      "execution_count": 59,
      "outputs": [
        {
          "output_type": "execute_result",
          "data": {
            "text/plain": [
              "297"
            ]
          },
          "metadata": {},
          "execution_count": 59
        }
      ]
    },
    {
      "cell_type": "code",
      "source": [
        "df_no_missing['ca'].unique(), df_no_missing['thal'].unique()"
      ],
      "metadata": {
        "colab": {
          "base_uri": "https://localhost:8080/"
        },
        "id": "Ex3gN-o5v_dw",
        "outputId": "ad25c9e2-29de-40b2-f5f5-09fa94f8b0ac"
      },
      "execution_count": 60,
      "outputs": [
        {
          "output_type": "execute_result",
          "data": {
            "text/plain": [
              "(array(['0.0', '3.0', '2.0', '1.0'], dtype=object),\n",
              " array(['6.0', '3.0', '7.0'], dtype=object))"
            ]
          },
          "metadata": {},
          "execution_count": 60
        }
      ]
    },
    {
      "cell_type": "markdown",
      "source": [
        "## Format Data Part 1 : Split the data into features and labels"
      ],
      "metadata": {
        "id": "CtsEFU-bwSbM"
      }
    },
    {
      "cell_type": "code",
      "source": [
        "## make a new copy of the columns used to make predictions\n",
        "X = df_no_missing.drop('hd', axis=1).copy() # alternatively df_no_missing[:, :-1]\n",
        "X.head()"
      ],
      "metadata": {
        "colab": {
          "base_uri": "https://localhost:8080/",
          "height": 206
        },
        "id": "xSDZbPDlxN4O",
        "outputId": "c9644833-3f91-43f4-e906-1f20c1f95dab"
      },
      "execution_count": 61,
      "outputs": [
        {
          "output_type": "execute_result",
          "data": {
            "text/plain": [
              "    age  sex   cp  restbp   chol  fbs  restecg  thalach  exang  oldpeak  \\\n",
              "0  63.0  1.0  1.0   145.0  233.0  1.0      2.0    150.0    0.0      2.3   \n",
              "1  67.0  1.0  4.0   160.0  286.0  0.0      2.0    108.0    1.0      1.5   \n",
              "2  67.0  1.0  4.0   120.0  229.0  0.0      2.0    129.0    1.0      2.6   \n",
              "3  37.0  1.0  3.0   130.0  250.0  0.0      0.0    187.0    0.0      3.5   \n",
              "4  41.0  0.0  2.0   130.0  204.0  0.0      2.0    172.0    0.0      1.4   \n",
              "\n",
              "   slope   ca thal  \n",
              "0    3.0  0.0  6.0  \n",
              "1    2.0  3.0  3.0  \n",
              "2    2.0  2.0  7.0  \n",
              "3    3.0  0.0  3.0  \n",
              "4    1.0  0.0  3.0  "
            ],
            "text/html": [
              "\n",
              "  <div id=\"df-5e4274d4-2419-44f6-96e2-84622fca30e0\">\n",
              "    <div class=\"colab-df-container\">\n",
              "      <div>\n",
              "<style scoped>\n",
              "    .dataframe tbody tr th:only-of-type {\n",
              "        vertical-align: middle;\n",
              "    }\n",
              "\n",
              "    .dataframe tbody tr th {\n",
              "        vertical-align: top;\n",
              "    }\n",
              "\n",
              "    .dataframe thead th {\n",
              "        text-align: right;\n",
              "    }\n",
              "</style>\n",
              "<table border=\"1\" class=\"dataframe\">\n",
              "  <thead>\n",
              "    <tr style=\"text-align: right;\">\n",
              "      <th></th>\n",
              "      <th>age</th>\n",
              "      <th>sex</th>\n",
              "      <th>cp</th>\n",
              "      <th>restbp</th>\n",
              "      <th>chol</th>\n",
              "      <th>fbs</th>\n",
              "      <th>restecg</th>\n",
              "      <th>thalach</th>\n",
              "      <th>exang</th>\n",
              "      <th>oldpeak</th>\n",
              "      <th>slope</th>\n",
              "      <th>ca</th>\n",
              "      <th>thal</th>\n",
              "    </tr>\n",
              "  </thead>\n",
              "  <tbody>\n",
              "    <tr>\n",
              "      <th>0</th>\n",
              "      <td>63.0</td>\n",
              "      <td>1.0</td>\n",
              "      <td>1.0</td>\n",
              "      <td>145.0</td>\n",
              "      <td>233.0</td>\n",
              "      <td>1.0</td>\n",
              "      <td>2.0</td>\n",
              "      <td>150.0</td>\n",
              "      <td>0.0</td>\n",
              "      <td>2.3</td>\n",
              "      <td>3.0</td>\n",
              "      <td>0.0</td>\n",
              "      <td>6.0</td>\n",
              "    </tr>\n",
              "    <tr>\n",
              "      <th>1</th>\n",
              "      <td>67.0</td>\n",
              "      <td>1.0</td>\n",
              "      <td>4.0</td>\n",
              "      <td>160.0</td>\n",
              "      <td>286.0</td>\n",
              "      <td>0.0</td>\n",
              "      <td>2.0</td>\n",
              "      <td>108.0</td>\n",
              "      <td>1.0</td>\n",
              "      <td>1.5</td>\n",
              "      <td>2.0</td>\n",
              "      <td>3.0</td>\n",
              "      <td>3.0</td>\n",
              "    </tr>\n",
              "    <tr>\n",
              "      <th>2</th>\n",
              "      <td>67.0</td>\n",
              "      <td>1.0</td>\n",
              "      <td>4.0</td>\n",
              "      <td>120.0</td>\n",
              "      <td>229.0</td>\n",
              "      <td>0.0</td>\n",
              "      <td>2.0</td>\n",
              "      <td>129.0</td>\n",
              "      <td>1.0</td>\n",
              "      <td>2.6</td>\n",
              "      <td>2.0</td>\n",
              "      <td>2.0</td>\n",
              "      <td>7.0</td>\n",
              "    </tr>\n",
              "    <tr>\n",
              "      <th>3</th>\n",
              "      <td>37.0</td>\n",
              "      <td>1.0</td>\n",
              "      <td>3.0</td>\n",
              "      <td>130.0</td>\n",
              "      <td>250.0</td>\n",
              "      <td>0.0</td>\n",
              "      <td>0.0</td>\n",
              "      <td>187.0</td>\n",
              "      <td>0.0</td>\n",
              "      <td>3.5</td>\n",
              "      <td>3.0</td>\n",
              "      <td>0.0</td>\n",
              "      <td>3.0</td>\n",
              "    </tr>\n",
              "    <tr>\n",
              "      <th>4</th>\n",
              "      <td>41.0</td>\n",
              "      <td>0.0</td>\n",
              "      <td>2.0</td>\n",
              "      <td>130.0</td>\n",
              "      <td>204.0</td>\n",
              "      <td>0.0</td>\n",
              "      <td>2.0</td>\n",
              "      <td>172.0</td>\n",
              "      <td>0.0</td>\n",
              "      <td>1.4</td>\n",
              "      <td>1.0</td>\n",
              "      <td>0.0</td>\n",
              "      <td>3.0</td>\n",
              "    </tr>\n",
              "  </tbody>\n",
              "</table>\n",
              "</div>\n",
              "      <button class=\"colab-df-convert\" onclick=\"convertToInteractive('df-5e4274d4-2419-44f6-96e2-84622fca30e0')\"\n",
              "              title=\"Convert this dataframe to an interactive table.\"\n",
              "              style=\"display:none;\">\n",
              "        \n",
              "  <svg xmlns=\"http://www.w3.org/2000/svg\" height=\"24px\"viewBox=\"0 0 24 24\"\n",
              "       width=\"24px\">\n",
              "    <path d=\"M0 0h24v24H0V0z\" fill=\"none\"/>\n",
              "    <path d=\"M18.56 5.44l.94 2.06.94-2.06 2.06-.94-2.06-.94-.94-2.06-.94 2.06-2.06.94zm-11 1L8.5 8.5l.94-2.06 2.06-.94-2.06-.94L8.5 2.5l-.94 2.06-2.06.94zm10 10l.94 2.06.94-2.06 2.06-.94-2.06-.94-.94-2.06-.94 2.06-2.06.94z\"/><path d=\"M17.41 7.96l-1.37-1.37c-.4-.4-.92-.59-1.43-.59-.52 0-1.04.2-1.43.59L10.3 9.45l-7.72 7.72c-.78.78-.78 2.05 0 2.83L4 21.41c.39.39.9.59 1.41.59.51 0 1.02-.2 1.41-.59l7.78-7.78 2.81-2.81c.8-.78.8-2.07 0-2.86zM5.41 20L4 18.59l7.72-7.72 1.47 1.35L5.41 20z\"/>\n",
              "  </svg>\n",
              "      </button>\n",
              "      \n",
              "  <style>\n",
              "    .colab-df-container {\n",
              "      display:flex;\n",
              "      flex-wrap:wrap;\n",
              "      gap: 12px;\n",
              "    }\n",
              "\n",
              "    .colab-df-convert {\n",
              "      background-color: #E8F0FE;\n",
              "      border: none;\n",
              "      border-radius: 50%;\n",
              "      cursor: pointer;\n",
              "      display: none;\n",
              "      fill: #1967D2;\n",
              "      height: 32px;\n",
              "      padding: 0 0 0 0;\n",
              "      width: 32px;\n",
              "    }\n",
              "\n",
              "    .colab-df-convert:hover {\n",
              "      background-color: #E2EBFA;\n",
              "      box-shadow: 0px 1px 2px rgba(60, 64, 67, 0.3), 0px 1px 3px 1px rgba(60, 64, 67, 0.15);\n",
              "      fill: #174EA6;\n",
              "    }\n",
              "\n",
              "    [theme=dark] .colab-df-convert {\n",
              "      background-color: #3B4455;\n",
              "      fill: #D2E3FC;\n",
              "    }\n",
              "\n",
              "    [theme=dark] .colab-df-convert:hover {\n",
              "      background-color: #434B5C;\n",
              "      box-shadow: 0px 1px 3px 1px rgba(0, 0, 0, 0.15);\n",
              "      filter: drop-shadow(0px 1px 2px rgba(0, 0, 0, 0.3));\n",
              "      fill: #FFFFFF;\n",
              "    }\n",
              "  </style>\n",
              "\n",
              "      <script>\n",
              "        const buttonEl =\n",
              "          document.querySelector('#df-5e4274d4-2419-44f6-96e2-84622fca30e0 button.colab-df-convert');\n",
              "        buttonEl.style.display =\n",
              "          google.colab.kernel.accessAllowed ? 'block' : 'none';\n",
              "\n",
              "        async function convertToInteractive(key) {\n",
              "          const element = document.querySelector('#df-5e4274d4-2419-44f6-96e2-84622fca30e0');\n",
              "          const dataTable =\n",
              "            await google.colab.kernel.invokeFunction('convertToInteractive',\n",
              "                                                     [key], {});\n",
              "          if (!dataTable) return;\n",
              "\n",
              "          const docLinkHtml = 'Like what you see? Visit the ' +\n",
              "            '<a target=\"_blank\" href=https://colab.research.google.com/notebooks/data_table.ipynb>data table notebook</a>'\n",
              "            + ' to learn more about interactive tables.';\n",
              "          element.innerHTML = '';\n",
              "          dataTable['output_type'] = 'display_data';\n",
              "          await google.colab.output.renderOutput(dataTable, element);\n",
              "          const docLink = document.createElement('div');\n",
              "          docLink.innerHTML = docLinkHtml;\n",
              "          element.appendChild(docLink);\n",
              "        }\n",
              "      </script>\n",
              "    </div>\n",
              "  </div>\n",
              "  "
            ]
          },
          "metadata": {},
          "execution_count": 61
        }
      ]
    },
    {
      "cell_type": "code",
      "source": [
        "## Make a new column of the data we want to predict\n",
        "y = df_no_missing['hd'].copy()\n",
        "y.head()"
      ],
      "metadata": {
        "colab": {
          "base_uri": "https://localhost:8080/"
        },
        "id": "fJUaE2JSxqix",
        "outputId": "50df217a-7614-4de2-8cb7-cd728195e27d"
      },
      "execution_count": 62,
      "outputs": [
        {
          "output_type": "execute_result",
          "data": {
            "text/plain": [
              "0    0\n",
              "1    2\n",
              "2    1\n",
              "3    0\n",
              "4    0\n",
              "Name: hd, dtype: int64"
            ]
          },
          "metadata": {},
          "execution_count": 62
        }
      ]
    },
    {
      "cell_type": "markdown",
      "source": [
        "## Format the Data Part 2 : One-Hot Encoding\n",
        "\n",
        "Now that we have split the dataframe into two pieces, X, which containst the data we will use to predict classifications, and y, which contains the known classifications in our training dataset, we need to take a closer look at the variable X. the list below tells us what each variable represents and the type of data(float or categorical) it should contain:\n",
        "\n",
        "* **age**, **Float**\n",
        "\n",
        "* **sex - Category**\n",
        "  * 0 = female\n",
        "  * 1 = male\n",
        "\n",
        "* **cp**, cheat pain, **Category**\n",
        " * 1 = typical angina\n",
        " * 2 = atypical angina\n",
        " * 3 = non-anginal pain\n",
        " * 4 = asymptomatic\n",
        "\n",
        "* **restbp**, resting blood pressure(in mm Hg), **Float**\n",
        "\n",
        "* **chol**, serum cholestrol in mg/dl, **Float**\n",
        "\n",
        "* **fbs**, fasting blood sugar, **Category**\n",
        " * 0 =>=120 mg/dl\n",
        " * 1 =<120 mg/dl\n",
        "\n",
        "* **restecg**, resting electrocardiographic result, **Category**\n",
        "\n",
        "\n",
        "\n",
        "\n"
      ],
      "metadata": {
        "id": "QFxzSplXx8is"
      }
    },
    {
      "cell_type": "code",
      "source": [
        "X.dtypes"
      ],
      "metadata": {
        "id": "C78XemoJ1ito",
        "outputId": "dd40a7fe-3470-468f-fb41-2a367032b1d3",
        "colab": {
          "base_uri": "https://localhost:8080/"
        }
      },
      "execution_count": 63,
      "outputs": [
        {
          "output_type": "execute_result",
          "data": {
            "text/plain": [
              "age        float64\n",
              "sex        float64\n",
              "cp         float64\n",
              "restbp     float64\n",
              "chol       float64\n",
              "fbs        float64\n",
              "restecg    float64\n",
              "thalach    float64\n",
              "exang      float64\n",
              "oldpeak    float64\n",
              "slope      float64\n",
              "ca          object\n",
              "thal        object\n",
              "dtype: object"
            ]
          },
          "metadata": {},
          "execution_count": 63
        }
      ]
    },
    {
      "cell_type": "markdown",
      "source": [
        "At this point you may be wondering \"what is wrong with treating categorical data like continuous data ?\". To answer that question, let's look at an example\n",
        "\n",
        "For **cp**(chest pain) column we have 4 options:\n",
        "1. typical angina\n",
        "2. atypical angina\n",
        "3. non-anginal pain\n",
        "4. asymptomatic\n",
        "\n",
        "If we treated these values, 1,2,3 and 4, like continuous data, then we would assume that 4, which means \"asymptomatic\", is more similar to 3, which means \"non-anginal pain\", than it is to 1 or2. that means decision tree would be more likely to cluster the patients with 4s and 3s together than the patients with 4s and 1s together. In contrast, if we trat these numbers like categorical data, then we treat each one as separate category that is no more or less similar to any of the other categories. Thus the likelihood of clustering patients with 4s with 3s is the same as clustering 4s with 1s, and that approach is more reasonable."
      ],
      "metadata": {
        "id": "7sLF8bDl2aRt"
      }
    },
    {
      "cell_type": "code",
      "source": [
        "X['cp'].unique()"
      ],
      "metadata": {
        "colab": {
          "base_uri": "https://localhost:8080/"
        },
        "id": "gswcitbEC-cH",
        "outputId": "6ad169a3-262c-41f9-bf75-6ce2edc09fa3"
      },
      "execution_count": 64,
      "outputs": [
        {
          "output_type": "execute_result",
          "data": {
            "text/plain": [
              "array([1., 4., 3., 2.])"
            ]
          },
          "metadata": {},
          "execution_count": 64
        }
      ]
    },
    {
      "cell_type": "code",
      "source": [
        "## For this use case, we will use get_dummies() to do One-hot Encoding\n",
        "\n",
        "pd.get_dummies(X, columns=['cp']).head()"
      ],
      "metadata": {
        "colab": {
          "base_uri": "https://localhost:8080/",
          "height": 206
        },
        "id": "UHJcimzZG1Ap",
        "outputId": "9ea395d2-36ca-420a-b8bc-f9802647bc4e"
      },
      "execution_count": 65,
      "outputs": [
        {
          "output_type": "execute_result",
          "data": {
            "text/plain": [
              "    age  sex  restbp   chol  fbs  restecg  thalach  exang  oldpeak  slope  \\\n",
              "0  63.0  1.0   145.0  233.0  1.0      2.0    150.0    0.0      2.3    3.0   \n",
              "1  67.0  1.0   160.0  286.0  0.0      2.0    108.0    1.0      1.5    2.0   \n",
              "2  67.0  1.0   120.0  229.0  0.0      2.0    129.0    1.0      2.6    2.0   \n",
              "3  37.0  1.0   130.0  250.0  0.0      0.0    187.0    0.0      3.5    3.0   \n",
              "4  41.0  0.0   130.0  204.0  0.0      2.0    172.0    0.0      1.4    1.0   \n",
              "\n",
              "    ca thal  cp_1.0  cp_2.0  cp_3.0  cp_4.0  \n",
              "0  0.0  6.0       1       0       0       0  \n",
              "1  3.0  3.0       0       0       0       1  \n",
              "2  2.0  7.0       0       0       0       1  \n",
              "3  0.0  3.0       0       0       1       0  \n",
              "4  0.0  3.0       0       1       0       0  "
            ],
            "text/html": [
              "\n",
              "  <div id=\"df-d2e98f9d-3ce4-4152-bde4-3b7fe53ae78a\">\n",
              "    <div class=\"colab-df-container\">\n",
              "      <div>\n",
              "<style scoped>\n",
              "    .dataframe tbody tr th:only-of-type {\n",
              "        vertical-align: middle;\n",
              "    }\n",
              "\n",
              "    .dataframe tbody tr th {\n",
              "        vertical-align: top;\n",
              "    }\n",
              "\n",
              "    .dataframe thead th {\n",
              "        text-align: right;\n",
              "    }\n",
              "</style>\n",
              "<table border=\"1\" class=\"dataframe\">\n",
              "  <thead>\n",
              "    <tr style=\"text-align: right;\">\n",
              "      <th></th>\n",
              "      <th>age</th>\n",
              "      <th>sex</th>\n",
              "      <th>restbp</th>\n",
              "      <th>chol</th>\n",
              "      <th>fbs</th>\n",
              "      <th>restecg</th>\n",
              "      <th>thalach</th>\n",
              "      <th>exang</th>\n",
              "      <th>oldpeak</th>\n",
              "      <th>slope</th>\n",
              "      <th>ca</th>\n",
              "      <th>thal</th>\n",
              "      <th>cp_1.0</th>\n",
              "      <th>cp_2.0</th>\n",
              "      <th>cp_3.0</th>\n",
              "      <th>cp_4.0</th>\n",
              "    </tr>\n",
              "  </thead>\n",
              "  <tbody>\n",
              "    <tr>\n",
              "      <th>0</th>\n",
              "      <td>63.0</td>\n",
              "      <td>1.0</td>\n",
              "      <td>145.0</td>\n",
              "      <td>233.0</td>\n",
              "      <td>1.0</td>\n",
              "      <td>2.0</td>\n",
              "      <td>150.0</td>\n",
              "      <td>0.0</td>\n",
              "      <td>2.3</td>\n",
              "      <td>3.0</td>\n",
              "      <td>0.0</td>\n",
              "      <td>6.0</td>\n",
              "      <td>1</td>\n",
              "      <td>0</td>\n",
              "      <td>0</td>\n",
              "      <td>0</td>\n",
              "    </tr>\n",
              "    <tr>\n",
              "      <th>1</th>\n",
              "      <td>67.0</td>\n",
              "      <td>1.0</td>\n",
              "      <td>160.0</td>\n",
              "      <td>286.0</td>\n",
              "      <td>0.0</td>\n",
              "      <td>2.0</td>\n",
              "      <td>108.0</td>\n",
              "      <td>1.0</td>\n",
              "      <td>1.5</td>\n",
              "      <td>2.0</td>\n",
              "      <td>3.0</td>\n",
              "      <td>3.0</td>\n",
              "      <td>0</td>\n",
              "      <td>0</td>\n",
              "      <td>0</td>\n",
              "      <td>1</td>\n",
              "    </tr>\n",
              "    <tr>\n",
              "      <th>2</th>\n",
              "      <td>67.0</td>\n",
              "      <td>1.0</td>\n",
              "      <td>120.0</td>\n",
              "      <td>229.0</td>\n",
              "      <td>0.0</td>\n",
              "      <td>2.0</td>\n",
              "      <td>129.0</td>\n",
              "      <td>1.0</td>\n",
              "      <td>2.6</td>\n",
              "      <td>2.0</td>\n",
              "      <td>2.0</td>\n",
              "      <td>7.0</td>\n",
              "      <td>0</td>\n",
              "      <td>0</td>\n",
              "      <td>0</td>\n",
              "      <td>1</td>\n",
              "    </tr>\n",
              "    <tr>\n",
              "      <th>3</th>\n",
              "      <td>37.0</td>\n",
              "      <td>1.0</td>\n",
              "      <td>130.0</td>\n",
              "      <td>250.0</td>\n",
              "      <td>0.0</td>\n",
              "      <td>0.0</td>\n",
              "      <td>187.0</td>\n",
              "      <td>0.0</td>\n",
              "      <td>3.5</td>\n",
              "      <td>3.0</td>\n",
              "      <td>0.0</td>\n",
              "      <td>3.0</td>\n",
              "      <td>0</td>\n",
              "      <td>0</td>\n",
              "      <td>1</td>\n",
              "      <td>0</td>\n",
              "    </tr>\n",
              "    <tr>\n",
              "      <th>4</th>\n",
              "      <td>41.0</td>\n",
              "      <td>0.0</td>\n",
              "      <td>130.0</td>\n",
              "      <td>204.0</td>\n",
              "      <td>0.0</td>\n",
              "      <td>2.0</td>\n",
              "      <td>172.0</td>\n",
              "      <td>0.0</td>\n",
              "      <td>1.4</td>\n",
              "      <td>1.0</td>\n",
              "      <td>0.0</td>\n",
              "      <td>3.0</td>\n",
              "      <td>0</td>\n",
              "      <td>1</td>\n",
              "      <td>0</td>\n",
              "      <td>0</td>\n",
              "    </tr>\n",
              "  </tbody>\n",
              "</table>\n",
              "</div>\n",
              "      <button class=\"colab-df-convert\" onclick=\"convertToInteractive('df-d2e98f9d-3ce4-4152-bde4-3b7fe53ae78a')\"\n",
              "              title=\"Convert this dataframe to an interactive table.\"\n",
              "              style=\"display:none;\">\n",
              "        \n",
              "  <svg xmlns=\"http://www.w3.org/2000/svg\" height=\"24px\"viewBox=\"0 0 24 24\"\n",
              "       width=\"24px\">\n",
              "    <path d=\"M0 0h24v24H0V0z\" fill=\"none\"/>\n",
              "    <path d=\"M18.56 5.44l.94 2.06.94-2.06 2.06-.94-2.06-.94-.94-2.06-.94 2.06-2.06.94zm-11 1L8.5 8.5l.94-2.06 2.06-.94-2.06-.94L8.5 2.5l-.94 2.06-2.06.94zm10 10l.94 2.06.94-2.06 2.06-.94-2.06-.94-.94-2.06-.94 2.06-2.06.94z\"/><path d=\"M17.41 7.96l-1.37-1.37c-.4-.4-.92-.59-1.43-.59-.52 0-1.04.2-1.43.59L10.3 9.45l-7.72 7.72c-.78.78-.78 2.05 0 2.83L4 21.41c.39.39.9.59 1.41.59.51 0 1.02-.2 1.41-.59l7.78-7.78 2.81-2.81c.8-.78.8-2.07 0-2.86zM5.41 20L4 18.59l7.72-7.72 1.47 1.35L5.41 20z\"/>\n",
              "  </svg>\n",
              "      </button>\n",
              "      \n",
              "  <style>\n",
              "    .colab-df-container {\n",
              "      display:flex;\n",
              "      flex-wrap:wrap;\n",
              "      gap: 12px;\n",
              "    }\n",
              "\n",
              "    .colab-df-convert {\n",
              "      background-color: #E8F0FE;\n",
              "      border: none;\n",
              "      border-radius: 50%;\n",
              "      cursor: pointer;\n",
              "      display: none;\n",
              "      fill: #1967D2;\n",
              "      height: 32px;\n",
              "      padding: 0 0 0 0;\n",
              "      width: 32px;\n",
              "    }\n",
              "\n",
              "    .colab-df-convert:hover {\n",
              "      background-color: #E2EBFA;\n",
              "      box-shadow: 0px 1px 2px rgba(60, 64, 67, 0.3), 0px 1px 3px 1px rgba(60, 64, 67, 0.15);\n",
              "      fill: #174EA6;\n",
              "    }\n",
              "\n",
              "    [theme=dark] .colab-df-convert {\n",
              "      background-color: #3B4455;\n",
              "      fill: #D2E3FC;\n",
              "    }\n",
              "\n",
              "    [theme=dark] .colab-df-convert:hover {\n",
              "      background-color: #434B5C;\n",
              "      box-shadow: 0px 1px 3px 1px rgba(0, 0, 0, 0.15);\n",
              "      filter: drop-shadow(0px 1px 2px rgba(0, 0, 0, 0.3));\n",
              "      fill: #FFFFFF;\n",
              "    }\n",
              "  </style>\n",
              "\n",
              "      <script>\n",
              "        const buttonEl =\n",
              "          document.querySelector('#df-d2e98f9d-3ce4-4152-bde4-3b7fe53ae78a button.colab-df-convert');\n",
              "        buttonEl.style.display =\n",
              "          google.colab.kernel.accessAllowed ? 'block' : 'none';\n",
              "\n",
              "        async function convertToInteractive(key) {\n",
              "          const element = document.querySelector('#df-d2e98f9d-3ce4-4152-bde4-3b7fe53ae78a');\n",
              "          const dataTable =\n",
              "            await google.colab.kernel.invokeFunction('convertToInteractive',\n",
              "                                                     [key], {});\n",
              "          if (!dataTable) return;\n",
              "\n",
              "          const docLinkHtml = 'Like what you see? Visit the ' +\n",
              "            '<a target=\"_blank\" href=https://colab.research.google.com/notebooks/data_table.ipynb>data table notebook</a>'\n",
              "            + ' to learn more about interactive tables.';\n",
              "          element.innerHTML = '';\n",
              "          dataTable['output_type'] = 'display_data';\n",
              "          await google.colab.output.renderOutput(dataTable, element);\n",
              "          const docLink = document.createElement('div');\n",
              "          docLink.innerHTML = docLinkHtml;\n",
              "          element.appendChild(docLink);\n",
              "        }\n",
              "      </script>\n",
              "    </div>\n",
              "  </div>\n",
              "  "
            ]
          },
          "metadata": {},
          "execution_count": 65
        }
      ]
    },
    {
      "cell_type": "code",
      "source": [
        "X_encoded = pd.get_dummies(X, columns=['cp',\n",
        "                                       'restecg',\n",
        "                                       'slope',\n",
        "                                       'thal'])\n",
        "X_encoded.head()"
      ],
      "metadata": {
        "colab": {
          "base_uri": "https://localhost:8080/",
          "height": 236
        },
        "id": "EMM7NnQXHVfC",
        "outputId": "4e1a4fd3-9515-43ec-f7d3-3748a955f9fc"
      },
      "execution_count": 66,
      "outputs": [
        {
          "output_type": "execute_result",
          "data": {
            "text/plain": [
              "    age  sex  restbp   chol  fbs  thalach  exang  oldpeak   ca  cp_1.0  ...  \\\n",
              "0  63.0  1.0   145.0  233.0  1.0    150.0    0.0      2.3  0.0       1  ...   \n",
              "1  67.0  1.0   160.0  286.0  0.0    108.0    1.0      1.5  3.0       0  ...   \n",
              "2  67.0  1.0   120.0  229.0  0.0    129.0    1.0      2.6  2.0       0  ...   \n",
              "3  37.0  1.0   130.0  250.0  0.0    187.0    0.0      3.5  0.0       0  ...   \n",
              "4  41.0  0.0   130.0  204.0  0.0    172.0    0.0      1.4  0.0       0  ...   \n",
              "\n",
              "   cp_4.0  restecg_0.0  restecg_1.0  restecg_2.0  slope_1.0  slope_2.0  \\\n",
              "0       0            0            0            1          0          0   \n",
              "1       1            0            0            1          0          1   \n",
              "2       1            0            0            1          0          1   \n",
              "3       0            1            0            0          0          0   \n",
              "4       0            0            0            1          1          0   \n",
              "\n",
              "   slope_3.0  thal_3.0  thal_6.0  thal_7.0  \n",
              "0          1         0         1         0  \n",
              "1          0         1         0         0  \n",
              "2          0         0         0         1  \n",
              "3          1         1         0         0  \n",
              "4          0         1         0         0  \n",
              "\n",
              "[5 rows x 22 columns]"
            ],
            "text/html": [
              "\n",
              "  <div id=\"df-9f4d4a4e-db37-4f24-8b69-29f9dbe6cf5d\">\n",
              "    <div class=\"colab-df-container\">\n",
              "      <div>\n",
              "<style scoped>\n",
              "    .dataframe tbody tr th:only-of-type {\n",
              "        vertical-align: middle;\n",
              "    }\n",
              "\n",
              "    .dataframe tbody tr th {\n",
              "        vertical-align: top;\n",
              "    }\n",
              "\n",
              "    .dataframe thead th {\n",
              "        text-align: right;\n",
              "    }\n",
              "</style>\n",
              "<table border=\"1\" class=\"dataframe\">\n",
              "  <thead>\n",
              "    <tr style=\"text-align: right;\">\n",
              "      <th></th>\n",
              "      <th>age</th>\n",
              "      <th>sex</th>\n",
              "      <th>restbp</th>\n",
              "      <th>chol</th>\n",
              "      <th>fbs</th>\n",
              "      <th>thalach</th>\n",
              "      <th>exang</th>\n",
              "      <th>oldpeak</th>\n",
              "      <th>ca</th>\n",
              "      <th>cp_1.0</th>\n",
              "      <th>...</th>\n",
              "      <th>cp_4.0</th>\n",
              "      <th>restecg_0.0</th>\n",
              "      <th>restecg_1.0</th>\n",
              "      <th>restecg_2.0</th>\n",
              "      <th>slope_1.0</th>\n",
              "      <th>slope_2.0</th>\n",
              "      <th>slope_3.0</th>\n",
              "      <th>thal_3.0</th>\n",
              "      <th>thal_6.0</th>\n",
              "      <th>thal_7.0</th>\n",
              "    </tr>\n",
              "  </thead>\n",
              "  <tbody>\n",
              "    <tr>\n",
              "      <th>0</th>\n",
              "      <td>63.0</td>\n",
              "      <td>1.0</td>\n",
              "      <td>145.0</td>\n",
              "      <td>233.0</td>\n",
              "      <td>1.0</td>\n",
              "      <td>150.0</td>\n",
              "      <td>0.0</td>\n",
              "      <td>2.3</td>\n",
              "      <td>0.0</td>\n",
              "      <td>1</td>\n",
              "      <td>...</td>\n",
              "      <td>0</td>\n",
              "      <td>0</td>\n",
              "      <td>0</td>\n",
              "      <td>1</td>\n",
              "      <td>0</td>\n",
              "      <td>0</td>\n",
              "      <td>1</td>\n",
              "      <td>0</td>\n",
              "      <td>1</td>\n",
              "      <td>0</td>\n",
              "    </tr>\n",
              "    <tr>\n",
              "      <th>1</th>\n",
              "      <td>67.0</td>\n",
              "      <td>1.0</td>\n",
              "      <td>160.0</td>\n",
              "      <td>286.0</td>\n",
              "      <td>0.0</td>\n",
              "      <td>108.0</td>\n",
              "      <td>1.0</td>\n",
              "      <td>1.5</td>\n",
              "      <td>3.0</td>\n",
              "      <td>0</td>\n",
              "      <td>...</td>\n",
              "      <td>1</td>\n",
              "      <td>0</td>\n",
              "      <td>0</td>\n",
              "      <td>1</td>\n",
              "      <td>0</td>\n",
              "      <td>1</td>\n",
              "      <td>0</td>\n",
              "      <td>1</td>\n",
              "      <td>0</td>\n",
              "      <td>0</td>\n",
              "    </tr>\n",
              "    <tr>\n",
              "      <th>2</th>\n",
              "      <td>67.0</td>\n",
              "      <td>1.0</td>\n",
              "      <td>120.0</td>\n",
              "      <td>229.0</td>\n",
              "      <td>0.0</td>\n",
              "      <td>129.0</td>\n",
              "      <td>1.0</td>\n",
              "      <td>2.6</td>\n",
              "      <td>2.0</td>\n",
              "      <td>0</td>\n",
              "      <td>...</td>\n",
              "      <td>1</td>\n",
              "      <td>0</td>\n",
              "      <td>0</td>\n",
              "      <td>1</td>\n",
              "      <td>0</td>\n",
              "      <td>1</td>\n",
              "      <td>0</td>\n",
              "      <td>0</td>\n",
              "      <td>0</td>\n",
              "      <td>1</td>\n",
              "    </tr>\n",
              "    <tr>\n",
              "      <th>3</th>\n",
              "      <td>37.0</td>\n",
              "      <td>1.0</td>\n",
              "      <td>130.0</td>\n",
              "      <td>250.0</td>\n",
              "      <td>0.0</td>\n",
              "      <td>187.0</td>\n",
              "      <td>0.0</td>\n",
              "      <td>3.5</td>\n",
              "      <td>0.0</td>\n",
              "      <td>0</td>\n",
              "      <td>...</td>\n",
              "      <td>0</td>\n",
              "      <td>1</td>\n",
              "      <td>0</td>\n",
              "      <td>0</td>\n",
              "      <td>0</td>\n",
              "      <td>0</td>\n",
              "      <td>1</td>\n",
              "      <td>1</td>\n",
              "      <td>0</td>\n",
              "      <td>0</td>\n",
              "    </tr>\n",
              "    <tr>\n",
              "      <th>4</th>\n",
              "      <td>41.0</td>\n",
              "      <td>0.0</td>\n",
              "      <td>130.0</td>\n",
              "      <td>204.0</td>\n",
              "      <td>0.0</td>\n",
              "      <td>172.0</td>\n",
              "      <td>0.0</td>\n",
              "      <td>1.4</td>\n",
              "      <td>0.0</td>\n",
              "      <td>0</td>\n",
              "      <td>...</td>\n",
              "      <td>0</td>\n",
              "      <td>0</td>\n",
              "      <td>0</td>\n",
              "      <td>1</td>\n",
              "      <td>1</td>\n",
              "      <td>0</td>\n",
              "      <td>0</td>\n",
              "      <td>1</td>\n",
              "      <td>0</td>\n",
              "      <td>0</td>\n",
              "    </tr>\n",
              "  </tbody>\n",
              "</table>\n",
              "<p>5 rows × 22 columns</p>\n",
              "</div>\n",
              "      <button class=\"colab-df-convert\" onclick=\"convertToInteractive('df-9f4d4a4e-db37-4f24-8b69-29f9dbe6cf5d')\"\n",
              "              title=\"Convert this dataframe to an interactive table.\"\n",
              "              style=\"display:none;\">\n",
              "        \n",
              "  <svg xmlns=\"http://www.w3.org/2000/svg\" height=\"24px\"viewBox=\"0 0 24 24\"\n",
              "       width=\"24px\">\n",
              "    <path d=\"M0 0h24v24H0V0z\" fill=\"none\"/>\n",
              "    <path d=\"M18.56 5.44l.94 2.06.94-2.06 2.06-.94-2.06-.94-.94-2.06-.94 2.06-2.06.94zm-11 1L8.5 8.5l.94-2.06 2.06-.94-2.06-.94L8.5 2.5l-.94 2.06-2.06.94zm10 10l.94 2.06.94-2.06 2.06-.94-2.06-.94-.94-2.06-.94 2.06-2.06.94z\"/><path d=\"M17.41 7.96l-1.37-1.37c-.4-.4-.92-.59-1.43-.59-.52 0-1.04.2-1.43.59L10.3 9.45l-7.72 7.72c-.78.78-.78 2.05 0 2.83L4 21.41c.39.39.9.59 1.41.59.51 0 1.02-.2 1.41-.59l7.78-7.78 2.81-2.81c.8-.78.8-2.07 0-2.86zM5.41 20L4 18.59l7.72-7.72 1.47 1.35L5.41 20z\"/>\n",
              "  </svg>\n",
              "      </button>\n",
              "      \n",
              "  <style>\n",
              "    .colab-df-container {\n",
              "      display:flex;\n",
              "      flex-wrap:wrap;\n",
              "      gap: 12px;\n",
              "    }\n",
              "\n",
              "    .colab-df-convert {\n",
              "      background-color: #E8F0FE;\n",
              "      border: none;\n",
              "      border-radius: 50%;\n",
              "      cursor: pointer;\n",
              "      display: none;\n",
              "      fill: #1967D2;\n",
              "      height: 32px;\n",
              "      padding: 0 0 0 0;\n",
              "      width: 32px;\n",
              "    }\n",
              "\n",
              "    .colab-df-convert:hover {\n",
              "      background-color: #E2EBFA;\n",
              "      box-shadow: 0px 1px 2px rgba(60, 64, 67, 0.3), 0px 1px 3px 1px rgba(60, 64, 67, 0.15);\n",
              "      fill: #174EA6;\n",
              "    }\n",
              "\n",
              "    [theme=dark] .colab-df-convert {\n",
              "      background-color: #3B4455;\n",
              "      fill: #D2E3FC;\n",
              "    }\n",
              "\n",
              "    [theme=dark] .colab-df-convert:hover {\n",
              "      background-color: #434B5C;\n",
              "      box-shadow: 0px 1px 3px 1px rgba(0, 0, 0, 0.15);\n",
              "      filter: drop-shadow(0px 1px 2px rgba(0, 0, 0, 0.3));\n",
              "      fill: #FFFFFF;\n",
              "    }\n",
              "  </style>\n",
              "\n",
              "      <script>\n",
              "        const buttonEl =\n",
              "          document.querySelector('#df-9f4d4a4e-db37-4f24-8b69-29f9dbe6cf5d button.colab-df-convert');\n",
              "        buttonEl.style.display =\n",
              "          google.colab.kernel.accessAllowed ? 'block' : 'none';\n",
              "\n",
              "        async function convertToInteractive(key) {\n",
              "          const element = document.querySelector('#df-9f4d4a4e-db37-4f24-8b69-29f9dbe6cf5d');\n",
              "          const dataTable =\n",
              "            await google.colab.kernel.invokeFunction('convertToInteractive',\n",
              "                                                     [key], {});\n",
              "          if (!dataTable) return;\n",
              "\n",
              "          const docLinkHtml = 'Like what you see? Visit the ' +\n",
              "            '<a target=\"_blank\" href=https://colab.research.google.com/notebooks/data_table.ipynb>data table notebook</a>'\n",
              "            + ' to learn more about interactive tables.';\n",
              "          element.innerHTML = '';\n",
              "          dataTable['output_type'] = 'display_data';\n",
              "          await google.colab.output.renderOutput(dataTable, element);\n",
              "          const docLink = document.createElement('div');\n",
              "          docLink.innerHTML = docLinkHtml;\n",
              "          element.appendChild(docLink);\n",
              "        }\n",
              "      </script>\n",
              "    </div>\n",
              "  </div>\n",
              "  "
            ]
          },
          "metadata": {},
          "execution_count": 66
        }
      ]
    },
    {
      "cell_type": "code",
      "source": [
        "y.unique()"
      ],
      "metadata": {
        "colab": {
          "base_uri": "https://localhost:8080/"
        },
        "id": "dYW3MoqkIBFh",
        "outputId": "5ad553e8-7de1-4338-c8c0-427481014538"
      },
      "execution_count": 67,
      "outputs": [
        {
          "output_type": "execute_result",
          "data": {
            "text/plain": [
              "array([0, 2, 1, 3, 4])"
            ]
          },
          "metadata": {},
          "execution_count": 67
        }
      ]
    },
    {
      "cell_type": "markdown",
      "source": [
        "In this use case we are only making a tree that does simple classification and only care if someone has heart disease or not, so we need to convert all numbers > 0 to 1"
      ],
      "metadata": {
        "id": "AF6vLCPhPFC8"
      }
    },
    {
      "cell_type": "code",
      "source": [
        "y_not_zero_index = y > 0 # get the index for each non-zero value in y\n",
        "y[y_not_zero_index] = 1\n",
        "y.unique()"
      ],
      "metadata": {
        "colab": {
          "base_uri": "https://localhost:8080/"
        },
        "id": "Qh6ANytePeUn",
        "outputId": "e0a96ce4-c258-4e1f-993a-50cd94bbf1c9"
      },
      "execution_count": 68,
      "outputs": [
        {
          "output_type": "execute_result",
          "data": {
            "text/plain": [
              "array([0, 1])"
            ]
          },
          "metadata": {},
          "execution_count": 68
        }
      ]
    },
    {
      "cell_type": "markdown",
      "source": [
        "## Build A Preliminary Classification Tree\n",
        "\n",
        "Now we simply split the data into **training** and **testing** set and build the tree."
      ],
      "metadata": {
        "id": "hToiQTm_Px7j"
      }
    },
    {
      "cell_type": "code",
      "source": [
        "## Split the data in training and testing sets\n",
        "X_train, X_test, y_train, y_test = train_test_split(X_encoded, y, random_state=42)\n",
        "\n",
        "## Create a decision tree and fit it to the training data\n",
        "clf_dt = DecisionTreeClassifier(random_state=42)\n",
        "model_dt = clf_dt.fit(X_train, y_train)"
      ],
      "metadata": {
        "id": "RWX2Sme7Rv4T"
      },
      "execution_count": 69,
      "outputs": []
    },
    {
      "cell_type": "code",
      "source": [
        "## Now plot the tree\n",
        "plt.figure(figsize=(15, 7.5))\n",
        "plot_tree(model_dt,\n",
        "         filled=True,\n",
        "         rounded=True,\n",
        "         class_names=[\"No HD\", \"Yes HD\"],\n",
        "         feature_names=X_encoded.columns)"
      ],
      "metadata": {
        "colab": {
          "base_uri": "https://localhost:8080/",
          "height": 1000
        },
        "id": "fz36vrpSSiPg",
        "outputId": "994f3515-8fcc-4757-e372-ed98f466c181"
      },
      "execution_count": 70,
      "outputs": [
        {
          "output_type": "execute_result",
          "data": {
            "text/plain": [
              "[Text(0.5732758620689655, 0.9583333333333334, 'ca <= 0.5\\ngini = 0.498\\nsamples = 222\\nvalue = [118, 104]\\nclass = No HD'),\n",
              " Text(0.33189655172413796, 0.875, 'thal_7.0 <= 0.5\\ngini = 0.382\\nsamples = 132\\nvalue = [98, 34]\\nclass = No HD'),\n",
              " Text(0.2025862068965517, 0.7916666666666666, 'oldpeak <= 2.7\\ngini = 0.24\\nsamples = 93\\nvalue = [80, 13]\\nclass = No HD'),\n",
              " Text(0.14655172413793102, 0.7083333333333334, 'age <= 58.5\\ngini = 0.185\\nsamples = 87\\nvalue = [78, 9]\\nclass = No HD'),\n",
              " Text(0.08620689655172414, 0.625, 'chol <= 311.5\\ngini = 0.061\\nsamples = 63\\nvalue = [61, 2]\\nclass = No HD'),\n",
              " Text(0.05172413793103448, 0.5416666666666666, 'restbp <= 109.0\\ngini = 0.033\\nsamples = 60\\nvalue = [59, 1]\\nclass = No HD'),\n",
              " Text(0.034482758620689655, 0.4583333333333333, 'sex <= 0.5\\ngini = 0.278\\nsamples = 6\\nvalue = [5, 1]\\nclass = No HD'),\n",
              " Text(0.017241379310344827, 0.375, 'gini = 0.0\\nsamples = 4\\nvalue = [4, 0]\\nclass = No HD'),\n",
              " Text(0.05172413793103448, 0.375, 'exang <= 0.5\\ngini = 0.5\\nsamples = 2\\nvalue = [1, 1]\\nclass = No HD'),\n",
              " Text(0.034482758620689655, 0.2916666666666667, 'gini = 0.0\\nsamples = 1\\nvalue = [0, 1]\\nclass = Yes HD'),\n",
              " Text(0.06896551724137931, 0.2916666666666667, 'gini = 0.0\\nsamples = 1\\nvalue = [1, 0]\\nclass = No HD'),\n",
              " Text(0.06896551724137931, 0.4583333333333333, 'gini = 0.0\\nsamples = 54\\nvalue = [54, 0]\\nclass = No HD'),\n",
              " Text(0.1206896551724138, 0.5416666666666666, 'thal_6.0 <= 0.5\\ngini = 0.444\\nsamples = 3\\nvalue = [2, 1]\\nclass = No HD'),\n",
              " Text(0.10344827586206896, 0.4583333333333333, 'gini = 0.0\\nsamples = 2\\nvalue = [2, 0]\\nclass = No HD'),\n",
              " Text(0.13793103448275862, 0.4583333333333333, 'gini = 0.0\\nsamples = 1\\nvalue = [0, 1]\\nclass = Yes HD'),\n",
              " Text(0.20689655172413793, 0.625, 'oldpeak <= 1.45\\ngini = 0.413\\nsamples = 24\\nvalue = [17, 7]\\nclass = No HD'),\n",
              " Text(0.1896551724137931, 0.5416666666666666, 'fbs <= 0.5\\ngini = 0.484\\nsamples = 17\\nvalue = [10, 7]\\nclass = No HD'),\n",
              " Text(0.1724137931034483, 0.4583333333333333, 'age <= 64.5\\ngini = 0.498\\nsamples = 15\\nvalue = [8, 7]\\nclass = No HD'),\n",
              " Text(0.13793103448275862, 0.375, 'thalach <= 148.5\\ngini = 0.48\\nsamples = 10\\nvalue = [4, 6]\\nclass = Yes HD'),\n",
              " Text(0.1206896551724138, 0.2916666666666667, 'gini = 0.0\\nsamples = 3\\nvalue = [0, 3]\\nclass = Yes HD'),\n",
              " Text(0.15517241379310345, 0.2916666666666667, 'oldpeak <= 1.3\\ngini = 0.49\\nsamples = 7\\nvalue = [4, 3]\\nclass = No HD'),\n",
              " Text(0.13793103448275862, 0.20833333333333334, 'chol <= 327.5\\ngini = 0.444\\nsamples = 6\\nvalue = [4, 2]\\nclass = No HD'),\n",
              " Text(0.1206896551724138, 0.125, 'gini = 0.0\\nsamples = 3\\nvalue = [3, 0]\\nclass = No HD'),\n",
              " Text(0.15517241379310345, 0.125, 'oldpeak <= 0.6\\ngini = 0.444\\nsamples = 3\\nvalue = [1, 2]\\nclass = Yes HD'),\n",
              " Text(0.13793103448275862, 0.041666666666666664, 'gini = 0.0\\nsamples = 2\\nvalue = [0, 2]\\nclass = Yes HD'),\n",
              " Text(0.1724137931034483, 0.041666666666666664, 'gini = 0.0\\nsamples = 1\\nvalue = [1, 0]\\nclass = No HD'),\n",
              " Text(0.1724137931034483, 0.20833333333333334, 'gini = 0.0\\nsamples = 1\\nvalue = [0, 1]\\nclass = Yes HD'),\n",
              " Text(0.20689655172413793, 0.375, 'thalach <= 93.5\\ngini = 0.32\\nsamples = 5\\nvalue = [4, 1]\\nclass = No HD'),\n",
              " Text(0.1896551724137931, 0.2916666666666667, 'gini = 0.0\\nsamples = 1\\nvalue = [0, 1]\\nclass = Yes HD'),\n",
              " Text(0.22413793103448276, 0.2916666666666667, 'gini = 0.0\\nsamples = 4\\nvalue = [4, 0]\\nclass = No HD'),\n",
              " Text(0.20689655172413793, 0.4583333333333333, 'gini = 0.0\\nsamples = 2\\nvalue = [2, 0]\\nclass = No HD'),\n",
              " Text(0.22413793103448276, 0.5416666666666666, 'gini = 0.0\\nsamples = 7\\nvalue = [7, 0]\\nclass = No HD'),\n",
              " Text(0.25862068965517243, 0.7083333333333334, 'thalach <= 147.5\\ngini = 0.444\\nsamples = 6\\nvalue = [2, 4]\\nclass = Yes HD'),\n",
              " Text(0.2413793103448276, 0.625, 'gini = 0.0\\nsamples = 3\\nvalue = [0, 3]\\nclass = Yes HD'),\n",
              " Text(0.27586206896551724, 0.625, 'age <= 52.5\\ngini = 0.444\\nsamples = 3\\nvalue = [2, 1]\\nclass = No HD'),\n",
              " Text(0.25862068965517243, 0.5416666666666666, 'gini = 0.0\\nsamples = 2\\nvalue = [2, 0]\\nclass = No HD'),\n",
              " Text(0.29310344827586204, 0.5416666666666666, 'gini = 0.0\\nsamples = 1\\nvalue = [0, 1]\\nclass = Yes HD'),\n",
              " Text(0.46120689655172414, 0.7916666666666666, 'cp_4.0 <= 0.5\\ngini = 0.497\\nsamples = 39\\nvalue = [18, 21]\\nclass = Yes HD'),\n",
              " Text(0.3879310344827586, 0.7083333333333334, 'thalach <= 152.0\\ngini = 0.42\\nsamples = 20\\nvalue = [14, 6]\\nclass = No HD'),\n",
              " Text(0.3448275862068966, 0.625, 'oldpeak <= 0.8\\ngini = 0.444\\nsamples = 6\\nvalue = [2, 4]\\nclass = Yes HD'),\n",
              " Text(0.3275862068965517, 0.5416666666666666, 'cp_3.0 <= 0.5\\ngini = 0.444\\nsamples = 3\\nvalue = [2, 1]\\nclass = No HD'),\n",
              " Text(0.3103448275862069, 0.4583333333333333, 'gini = 0.0\\nsamples = 1\\nvalue = [0, 1]\\nclass = Yes HD'),\n",
              " Text(0.3448275862068966, 0.4583333333333333, 'gini = 0.0\\nsamples = 2\\nvalue = [2, 0]\\nclass = No HD'),\n",
              " Text(0.3620689655172414, 0.5416666666666666, 'gini = 0.0\\nsamples = 3\\nvalue = [0, 3]\\nclass = Yes HD'),\n",
              " Text(0.43103448275862066, 0.625, 'slope_3.0 <= 0.5\\ngini = 0.245\\nsamples = 14\\nvalue = [12, 2]\\nclass = No HD'),\n",
              " Text(0.39655172413793105, 0.5416666666666666, 'restbp <= 161.0\\ngini = 0.153\\nsamples = 12\\nvalue = [11, 1]\\nclass = No HD'),\n",
              " Text(0.3793103448275862, 0.4583333333333333, 'gini = 0.0\\nsamples = 9\\nvalue = [9, 0]\\nclass = No HD'),\n",
              " Text(0.41379310344827586, 0.4583333333333333, 'oldpeak <= 0.35\\ngini = 0.444\\nsamples = 3\\nvalue = [2, 1]\\nclass = No HD'),\n",
              " Text(0.39655172413793105, 0.375, 'gini = 0.0\\nsamples = 1\\nvalue = [0, 1]\\nclass = Yes HD'),\n",
              " Text(0.43103448275862066, 0.375, 'gini = 0.0\\nsamples = 2\\nvalue = [2, 0]\\nclass = No HD'),\n",
              " Text(0.46551724137931033, 0.5416666666666666, 'thalach <= 181.0\\ngini = 0.5\\nsamples = 2\\nvalue = [1, 1]\\nclass = No HD'),\n",
              " Text(0.4482758620689655, 0.4583333333333333, 'gini = 0.0\\nsamples = 1\\nvalue = [0, 1]\\nclass = Yes HD'),\n",
              " Text(0.4827586206896552, 0.4583333333333333, 'gini = 0.0\\nsamples = 1\\nvalue = [1, 0]\\nclass = No HD'),\n",
              " Text(0.5344827586206896, 0.7083333333333334, 'oldpeak <= 0.45\\ngini = 0.332\\nsamples = 19\\nvalue = [4, 15]\\nclass = Yes HD'),\n",
              " Text(0.5172413793103449, 0.625, 'age <= 42.0\\ngini = 0.49\\nsamples = 7\\nvalue = [4, 3]\\nclass = No HD'),\n",
              " Text(0.5, 0.5416666666666666, 'gini = 0.0\\nsamples = 3\\nvalue = [0, 3]\\nclass = Yes HD'),\n",
              " Text(0.5344827586206896, 0.5416666666666666, 'gini = 0.0\\nsamples = 4\\nvalue = [4, 0]\\nclass = No HD'),\n",
              " Text(0.5517241379310345, 0.625, 'gini = 0.0\\nsamples = 12\\nvalue = [0, 12]\\nclass = Yes HD'),\n",
              " Text(0.8146551724137931, 0.875, 'cp_4.0 <= 0.5\\ngini = 0.346\\nsamples = 90\\nvalue = [20, 70]\\nclass = Yes HD'),\n",
              " Text(0.7155172413793104, 0.7916666666666666, 'oldpeak <= 0.55\\ngini = 0.499\\nsamples = 31\\nvalue = [16, 15]\\nclass = No HD'),\n",
              " Text(0.6379310344827587, 0.7083333333333334, 'cp_2.0 <= 0.5\\ngini = 0.401\\nsamples = 18\\nvalue = [13, 5]\\nclass = No HD'),\n",
              " Text(0.5862068965517241, 0.625, 'oldpeak <= 0.35\\ngini = 0.165\\nsamples = 11\\nvalue = [10, 1]\\nclass = No HD'),\n",
              " Text(0.5689655172413793, 0.5416666666666666, 'gini = 0.0\\nsamples = 9\\nvalue = [9, 0]\\nclass = No HD'),\n",
              " Text(0.603448275862069, 0.5416666666666666, 'chol <= 251.0\\ngini = 0.5\\nsamples = 2\\nvalue = [1, 1]\\nclass = No HD'),\n",
              " Text(0.5862068965517241, 0.4583333333333333, 'gini = 0.0\\nsamples = 1\\nvalue = [0, 1]\\nclass = Yes HD'),\n",
              " Text(0.6206896551724138, 0.4583333333333333, 'gini = 0.0\\nsamples = 1\\nvalue = [1, 0]\\nclass = No HD'),\n",
              " Text(0.6896551724137931, 0.625, 'restbp <= 134.0\\ngini = 0.49\\nsamples = 7\\nvalue = [3, 4]\\nclass = Yes HD'),\n",
              " Text(0.6724137931034483, 0.5416666666666666, 'slope_1.0 <= 0.5\\ngini = 0.375\\nsamples = 4\\nvalue = [3, 1]\\nclass = No HD'),\n",
              " Text(0.6551724137931034, 0.4583333333333333, 'gini = 0.0\\nsamples = 1\\nvalue = [0, 1]\\nclass = Yes HD'),\n",
              " Text(0.6896551724137931, 0.4583333333333333, 'gini = 0.0\\nsamples = 3\\nvalue = [3, 0]\\nclass = No HD'),\n",
              " Text(0.7068965517241379, 0.5416666666666666, 'gini = 0.0\\nsamples = 3\\nvalue = [0, 3]\\nclass = Yes HD'),\n",
              " Text(0.7931034482758621, 0.7083333333333334, 'restbp <= 139.0\\ngini = 0.355\\nsamples = 13\\nvalue = [3, 10]\\nclass = Yes HD'),\n",
              " Text(0.7586206896551724, 0.625, 'ca <= 2.5\\ngini = 0.18\\nsamples = 10\\nvalue = [1, 9]\\nclass = Yes HD'),\n",
              " Text(0.7413793103448276, 0.5416666666666666, 'gini = 0.0\\nsamples = 7\\nvalue = [0, 7]\\nclass = Yes HD'),\n",
              " Text(0.7758620689655172, 0.5416666666666666, 'thalach <= 142.5\\ngini = 0.444\\nsamples = 3\\nvalue = [1, 2]\\nclass = Yes HD'),\n",
              " Text(0.7586206896551724, 0.4583333333333333, 'gini = 0.0\\nsamples = 2\\nvalue = [0, 2]\\nclass = Yes HD'),\n",
              " Text(0.7931034482758621, 0.4583333333333333, 'gini = 0.0\\nsamples = 1\\nvalue = [1, 0]\\nclass = No HD'),\n",
              " Text(0.8275862068965517, 0.625, 'thalach <= 151.5\\ngini = 0.444\\nsamples = 3\\nvalue = [2, 1]\\nclass = No HD'),\n",
              " Text(0.8103448275862069, 0.5416666666666666, 'gini = 0.0\\nsamples = 1\\nvalue = [0, 1]\\nclass = Yes HD'),\n",
              " Text(0.8448275862068966, 0.5416666666666666, 'gini = 0.0\\nsamples = 2\\nvalue = [2, 0]\\nclass = No HD'),\n",
              " Text(0.9137931034482759, 0.7916666666666666, 'restbp <= 109.0\\ngini = 0.126\\nsamples = 59\\nvalue = [4, 55]\\nclass = Yes HD'),\n",
              " Text(0.8793103448275862, 0.7083333333333334, 'thalach <= 151.5\\ngini = 0.5\\nsamples = 4\\nvalue = [2, 2]\\nclass = No HD'),\n",
              " Text(0.8620689655172413, 0.625, 'gini = 0.0\\nsamples = 2\\nvalue = [2, 0]\\nclass = No HD'),\n",
              " Text(0.896551724137931, 0.625, 'gini = 0.0\\nsamples = 2\\nvalue = [0, 2]\\nclass = Yes HD'),\n",
              " Text(0.9482758620689655, 0.7083333333333334, 'age <= 63.5\\ngini = 0.07\\nsamples = 55\\nvalue = [2, 53]\\nclass = Yes HD'),\n",
              " Text(0.9310344827586207, 0.625, 'gini = 0.0\\nsamples = 44\\nvalue = [0, 44]\\nclass = Yes HD'),\n",
              " Text(0.9655172413793104, 0.625, 'restecg_2.0 <= 0.5\\ngini = 0.298\\nsamples = 11\\nvalue = [2, 9]\\nclass = Yes HD'),\n",
              " Text(0.9482758620689655, 0.5416666666666666, 'age <= 65.0\\ngini = 0.5\\nsamples = 4\\nvalue = [2, 2]\\nclass = No HD'),\n",
              " Text(0.9310344827586207, 0.4583333333333333, 'gini = 0.0\\nsamples = 2\\nvalue = [2, 0]\\nclass = No HD'),\n",
              " Text(0.9655172413793104, 0.4583333333333333, 'gini = 0.0\\nsamples = 2\\nvalue = [0, 2]\\nclass = Yes HD'),\n",
              " Text(0.9827586206896551, 0.5416666666666666, 'gini = 0.0\\nsamples = 7\\nvalue = [0, 7]\\nclass = Yes HD')]"
            ]
          },
          "metadata": {},
          "execution_count": 70
        },
        {
          "output_type": "display_data",
          "data": {
            "text/plain": [
              "<Figure size 1080x540 with 1 Axes>"
            ],
            "image/png": "[encoded data removed]"
          },
          "metadata": {
            "needs_background": "light"
          }
        }
      ]
    },
    {
      "cell_type": "markdown",
      "source": [
        "## Evaluate the Decision Tree"
      ],
      "metadata": {
        "id": "UxrRn0u8TJlp"
      }
    },
    {
      "cell_type": "code",
      "source": [
        "# plot the confusion matrix\n",
        "plot_confusion_matrix(model_dt, X_test, y_test, display_labels=[\"Does not have HD\", \"Has HD\"])"
      ],
      "metadata": {
        "colab": {
          "base_uri": "https://localhost:8080/",
          "height": 351
        },
        "id": "PH3_j1ulUSqg",
        "outputId": "a870152e-a02e-41f9-8b41-fa08958b8a86"
      },
      "execution_count": 71,
      "outputs": [
        {
          "output_type": "stream",
          "name": "stderr",
          "text": [
            "/usr/local/lib/python3.7/dist-packages/sklearn/utils/deprecation.py:87: FutureWarning: Function plot_confusion_matrix is deprecated; Function `plot_confusion_matrix` is deprecated in 1.0 and will be removed in 1.2. Use one of the class methods: ConfusionMatrixDisplay.from_predictions or ConfusionMatrixDisplay.from_estimator.\n",
            "  warnings.warn(msg, category=FutureWarning)\n"
          ]
        },
        {
          "output_type": "execute_result",
          "data": {
            "text/plain": [
              "<sklearn.metrics._plot.confusion_matrix.ConfusionMatrixDisplay at 0x7f125472af10>"
            ]
          },
          "metadata": {},
          "execution_count": 71
        },
        {
          "output_type": "display_data",
          "data": {
            "text/plain": [
              "<Figure size 432x288 with 2 Axes>"
            ],
            "image/png": "[encoded data removed]"
          },
          "metadata": {
            "needs_background": "light"
          }
        }
      ]
    },
    {
      "cell_type": "markdown",
      "source": [
        "## Cost Complexity Pruning Part 1: Visualize alpha\n",
        "\n",
        "**Decision Trees** are notorious for being **overfit** to the **Training Dataset**, and there are a lot of parameters, like max_depths and min_samples, that are designed to reduce overfitting. However, pruning a tree with **cost complexity pruning** can simplify the whole process of finding a smaller tree that improves the accuracy with the **Testing Dataset**.\n",
        "\n",
        "First, let's extract the different values of alpha that are available for this tree and build a pruned tree for each value for alpha. We ommit the maximum value for alpha with ccp_alphas = ccp_alphas[:,-1] because it would prune all leaves, leaving us with only root instead of a tree."
      ],
      "metadata": {
        "id": "ETji2qTcUk_9"
      }
    },
    {
      "cell_type": "code",
      "source": [
        "path = model_dt.cost_complexity_pruning_path(X_train, y_train) # determine values for alpha\n",
        "ccp_alphas = path.ccp_alphas # extract different values for alpha\n",
        "ccp_alphas = ccp_alphas[:-1] # exclude the maximum value for alpha\n",
        "\n",
        "clf_dts = [] # create an array that will put decision trees into\n",
        "\n",
        "## now create one decision tree per value for alpha and store it in the array\n",
        "for ccp_alpha in ccp_alphas:\n",
        "  clf_dt = DecisionTreeClassifier(random_state=0, ccp_alpha=ccp_alpha)\n",
        "  clf_dt.fit(X_train, y_train)\n",
        "  clf_dts.append(clf_dt) "
      ],
      "metadata": {
        "id": "v3MtcqckowdK"
      },
      "execution_count": 72,
      "outputs": []
    },
    {
      "cell_type": "markdown",
      "source": [
        "Now let's graph the accuracy of the trees using the **Training Dataset** and **Testing Dataset** as a function of alpha."
      ],
      "metadata": {
        "id": "d_Rvv1jmq_5b"
      }
    },
    {
      "cell_type": "code",
      "source": [
        "train_scores = [clf_dt.score(X_train, y_train) for clf_dt in clf_dts]\n",
        "test_scores = [clf_dt.score(X_test, y_test) for clf_dt in clf_dts]\n",
        "\n",
        "fig, ax = plt.subplots()\n",
        "ax.set_xlabel(\"alpha\")\n",
        "ax.set_ylabel(\"accuracy\")\n",
        "ax.set_title(\"Accuracy vs alpha for training and testing sets\")\n",
        "ax.plot(ccp_alphas, train_scores, marker='o', label=\"train\", drawstyle=\"steps-post\")\n",
        "ax.plot(ccp_alphas, test_scores, marker=\"o\", label=\"test\", drawstyle=\"steps-post\")\n",
        "ax.legend()\n",
        "plt.show()"
      ],
      "metadata": {
        "colab": {
          "base_uri": "https://localhost:8080/",
          "height": 295
        },
        "id": "BcTD4pi2QkEo",
        "outputId": "848e02dc-70c1-4edd-aab0-ae7e2829f95b"
      },
      "execution_count": 73,
      "outputs": [
        {
          "output_type": "display_data",
          "data": {
            "text/plain": [
              "<Figure size 432x288 with 1 Axes>"
            ],
            "image/png": "[encoded data removed]"
          },
          "metadata": {
            "needs_background": "light"
          }
        }
      ]
    },
    {
      "cell_type": "markdown",
      "source": [
        "In the graph above, we see that the accuracy for the **Testing Dataset** hits his maximum value when alpha is about **0.016**. After this value for alpha, the accuracy of the **Training Dataset** drops off and that suggests we should set **ccp_alpha=0.016**.\n",
        "\n",
        "**Note:** When we apply Cost Complexity Pruning  to a Classification Tree, values for alpha goes from 0 to 1, because GINI scores go from 0 to 1. In contrast, values for alpha for a Regression Tree can be much larger since the sum of the sqaured residuals can, in theory go from 0 to positive infinity."
      ],
      "metadata": {
        "id": "LpKRTeAxSYkA"
      }
    },
    {
      "cell_type": "markdown",
      "source": [
        "## Cost Complexity Pruning Part 2 : Cross Validation For Finding the Best Alpha\n",
        "\n",
        "Since there are many ways we could have divided the original dataset into **Training** and **Testing** Dataset and how do we know we used the best **Training Dataset** and **Testing Dataset** ? Typically we answer the question with **10-Fold Cross Validation**. So that's what we are going to do now, and we will do it with the **cross_val_score()** function.\n"
      ],
      "metadata": {
        "id": "rQE4Yx-qWGB6"
      }
    },
    {
      "cell_type": "code",
      "source": [
        "## The graph that we drew suggested one value for alpha, 0.016 but another set of data might suggest another optimal value\n",
        "\n",
        "clf_dt = DecisionTreeClassifier(random_state=42, ccp_alpha=0.016) # creat the tree with ccp_alpha=0.016\n",
        "\n",
        "## now use 5-fold cross validation create 5 different training and testing dataset \n",
        "## that are then used to train and test the tree.\n",
        "scores = cross_val_score(clf_dt, X_train, y_train, cv=5)\n",
        "df = pd.DataFrame(data={'tree': range(5), 'accuracy': scores})\n",
        "\n",
        "df.plot(x='tree', y='accuracy', marker='o', linestyle='--')"
      ],
      "metadata": {
        "colab": {
          "base_uri": "https://localhost:8080/",
          "height": 296
        },
        "id": "OzM1FTE2XUqf",
        "outputId": "7fed354e-2733-4e25-be3f-273777da7941"
      },
      "execution_count": 74,
      "outputs": [
        {
          "output_type": "execute_result",
          "data": {
            "text/plain": [
              "<matplotlib.axes._subplots.AxesSubplot at 0x7f1254592290>"
            ]
          },
          "metadata": {},
          "execution_count": 74
        },
        {
          "output_type": "display_data",
          "data": {
            "text/plain": [
              "<Figure size 432x288 with 1 Axes>"
            ],
            "image/png": "[encoded data removed]"
          },
          "metadata": {
            "needs_background": "light"
          }
        }
      ]
    },
    {
      "cell_type": "markdown",
      "source": [
        "The graph above shows that using different **Training** and **Testing** data with the same alpha resulted in different accuracies, suggesting that alpha is sensitive to datasets. So, instead of picking a single testing dataset, let's use **cross-validation** to find the optimal value for ccp_alpha."
      ],
      "metadata": {
        "id": "dpOtYhDewHcC"
      }
    },
    {
      "cell_type": "code",
      "source": [
        "##from pandas.core.common import random_state\n",
        "## create an array to store the results of each fold during cross-validation\n",
        "alpha_loop_values = []\n",
        "\n",
        "## for each candidate value for alpha, we will run 5-fold cross validation.\n",
        "## then we will store the mean and standard deviation oof the scores (the accuracy) for each call\n",
        "## to cross_val_score in alpha loop values\n",
        "for ccp_alpha in ccp_alphas:\n",
        "  clf_dt = DecisionTreeClassifier(random_state=42, ccp_alpha=ccp_alpha)\n",
        "  scores = cross_val_score(clf_dt, X_train, y_train, cv=5)\n",
        "  alpha_loop_values.append([ccp_alpha, np.mean(scores), np.std(scores)])\n",
        "\n",
        "## now we can draw a graph of the means and standard deviations of the scores\n",
        "## for each candidate value for alpha\n",
        "alpha_results = pd.DataFrame(alpha_loop_values,\n",
        "                             columns=['alpha', 'mean_accuracy', 'std'])\n",
        "\n",
        "alpha_results.plot(x=\"alpha\",\n",
        "                   y=\"mean_accuracy\",\n",
        "                   yerr='std',\n",
        "                   marker='o',\n",
        "                   linestyle='--')  "
      ],
      "metadata": {
        "colab": {
          "base_uri": "https://localhost:8080/",
          "height": 296
        },
        "id": "xpTcDtZwxBS8",
        "outputId": "6843b0cd-06b2-4e82-cba1-9465f59ecd85"
      },
      "execution_count": 75,
      "outputs": [
        {
          "output_type": "execute_result",
          "data": {
            "text/plain": [
              "<matplotlib.axes._subplots.AxesSubplot at 0x7f1254523b10>"
            ]
          },
          "metadata": {},
          "execution_count": 75
        },
        {
          "output_type": "display_data",
          "data": {
            "text/plain": [
              "<Figure size 432x288 with 1 Axes>"
            ],
            "image/png": "[encoded data removed]"
          },
          "metadata": {
            "needs_background": "light"
          }
        }
      ]
    },
    {
      "cell_type": "markdown",
      "source": [
        "Using cross validation we can see that, overall instead of setting ccp_alpha=0.016, we need to set it to something closer to **0.014**. We can find exact value with : "
      ],
      "metadata": {
        "id": "SJzR3qHTzdo5"
      }
    },
    {
      "cell_type": "code",
      "source": [
        "alpha_results[(alpha_results['alpha'] > 0.014)\n",
        "              &\n",
        "              (alpha_results['alpha'] < 0.015)]"
      ],
      "metadata": {
        "colab": {
          "base_uri": "https://localhost:8080/",
          "height": 81
        },
        "id": "eI1Gk_oWdQ6f",
        "outputId": "18ec0490-b9f8-4be3-821d-9a7d2d907abe"
      },
      "execution_count": 76,
      "outputs": [
        {
          "output_type": "execute_result",
          "data": {
            "text/plain": [
              "       alpha  mean_accuracy       std\n",
              "20  0.014225       0.752323  0.091956"
            ],
            "text/html": [
              "\n",
              "  <div id=\"df-80c564f5-63ab-4e7e-9483-885e4b6462a1\">\n",
              "    <div class=\"colab-df-container\">\n",
              "      <div>\n",
              "<style scoped>\n",
              "    .dataframe tbody tr th:only-of-type {\n",
              "        vertical-align: middle;\n",
              "    }\n",
              "\n",
              "    .dataframe tbody tr th {\n",
              "        vertical-align: top;\n",
              "    }\n",
              "\n",
              "    .dataframe thead th {\n",
              "        text-align: right;\n",
              "    }\n",
              "</style>\n",
              "<table border=\"1\" class=\"dataframe\">\n",
              "  <thead>\n",
              "    <tr style=\"text-align: right;\">\n",
              "      <th></th>\n",
              "      <th>alpha</th>\n",
              "      <th>mean_accuracy</th>\n",
              "      <th>std</th>\n",
              "    </tr>\n",
              "  </thead>\n",
              "  <tbody>\n",
              "    <tr>\n",
              "      <th>20</th>\n",
              "      <td>0.014225</td>\n",
              "      <td>0.752323</td>\n",
              "      <td>0.091956</td>\n",
              "    </tr>\n",
              "  </tbody>\n",
              "</table>\n",
              "</div>\n",
              "      <button class=\"colab-df-convert\" onclick=\"convertToInteractive('df-80c564f5-63ab-4e7e-9483-885e4b6462a1')\"\n",
              "              title=\"Convert this dataframe to an interactive table.\"\n",
              "              style=\"display:none;\">\n",
              "        \n",
              "  <svg xmlns=\"http://www.w3.org/2000/svg\" height=\"24px\"viewBox=\"0 0 24 24\"\n",
              "       width=\"24px\">\n",
              "    <path d=\"M0 0h24v24H0V0z\" fill=\"none\"/>\n",
              "    <path d=\"M18.56 5.44l.94 2.06.94-2.06 2.06-.94-2.06-.94-.94-2.06-.94 2.06-2.06.94zm-11 1L8.5 8.5l.94-2.06 2.06-.94-2.06-.94L8.5 2.5l-.94 2.06-2.06.94zm10 10l.94 2.06.94-2.06 2.06-.94-2.06-.94-.94-2.06-.94 2.06-2.06.94z\"/><path d=\"M17.41 7.96l-1.37-1.37c-.4-.4-.92-.59-1.43-.59-.52 0-1.04.2-1.43.59L10.3 9.45l-7.72 7.72c-.78.78-.78 2.05 0 2.83L4 21.41c.39.39.9.59 1.41.59.51 0 1.02-.2 1.41-.59l7.78-7.78 2.81-2.81c.8-.78.8-2.07 0-2.86zM5.41 20L4 18.59l7.72-7.72 1.47 1.35L5.41 20z\"/>\n",
              "  </svg>\n",
              "      </button>\n",
              "      \n",
              "  <style>\n",
              "    .colab-df-container {\n",
              "      display:flex;\n",
              "      flex-wrap:wrap;\n",
              "      gap: 12px;\n",
              "    }\n",
              "\n",
              "    .colab-df-convert {\n",
              "      background-color: #E8F0FE;\n",
              "      border: none;\n",
              "      border-radius: 50%;\n",
              "      cursor: pointer;\n",
              "      display: none;\n",
              "      fill: #1967D2;\n",
              "      height: 32px;\n",
              "      padding: 0 0 0 0;\n",
              "      width: 32px;\n",
              "    }\n",
              "\n",
              "    .colab-df-convert:hover {\n",
              "      background-color: #E2EBFA;\n",
              "      box-shadow: 0px 1px 2px rgba(60, 64, 67, 0.3), 0px 1px 3px 1px rgba(60, 64, 67, 0.15);\n",
              "      fill: #174EA6;\n",
              "    }\n",
              "\n",
              "    [theme=dark] .colab-df-convert {\n",
              "      background-color: #3B4455;\n",
              "      fill: #D2E3FC;\n",
              "    }\n",
              "\n",
              "    [theme=dark] .colab-df-convert:hover {\n",
              "      background-color: #434B5C;\n",
              "      box-shadow: 0px 1px 3px 1px rgba(0, 0, 0, 0.15);\n",
              "      filter: drop-shadow(0px 1px 2px rgba(0, 0, 0, 0.3));\n",
              "      fill: #FFFFFF;\n",
              "    }\n",
              "  </style>\n",
              "\n",
              "      <script>\n",
              "        const buttonEl =\n",
              "          document.querySelector('#df-80c564f5-63ab-4e7e-9483-885e4b6462a1 button.colab-df-convert');\n",
              "        buttonEl.style.display =\n",
              "          google.colab.kernel.accessAllowed ? 'block' : 'none';\n",
              "\n",
              "        async function convertToInteractive(key) {\n",
              "          const element = document.querySelector('#df-80c564f5-63ab-4e7e-9483-885e4b6462a1');\n",
              "          const dataTable =\n",
              "            await google.colab.kernel.invokeFunction('convertToInteractive',\n",
              "                                                     [key], {});\n",
              "          if (!dataTable) return;\n",
              "\n",
              "          const docLinkHtml = 'Like what you see? Visit the ' +\n",
              "            '<a target=\"_blank\" href=https://colab.research.google.com/notebooks/data_table.ipynb>data table notebook</a>'\n",
              "            + ' to learn more about interactive tables.';\n",
              "          element.innerHTML = '';\n",
              "          dataTable['output_type'] = 'display_data';\n",
              "          await google.colab.output.renderOutput(dataTable, element);\n",
              "          const docLink = document.createElement('div');\n",
              "          docLink.innerHTML = docLinkHtml;\n",
              "          element.appendChild(docLink);\n",
              "        }\n",
              "      </script>\n",
              "    </div>\n",
              "  </div>\n",
              "  "
            ]
          },
          "metadata": {},
          "execution_count": 76
        }
      ]
    },
    {
      "cell_type": "markdown",
      "source": [
        "Now let's store the ideal value for alpha so that we can use it to bulild the best tree"
      ],
      "metadata": {
        "id": "oC5DHwiFdnK7"
      }
    },
    {
      "cell_type": "code",
      "source": [
        "ideal_ccp_alpha = alpha_results[(alpha_results['alpha'] > 0.014)\n",
        "                                &\n",
        "                                (alpha_results['alpha'] < 0.015)]['alpha']\n",
        "ideal_ccp_alpha                                "
      ],
      "metadata": {
        "colab": {
          "base_uri": "https://localhost:8080/"
        },
        "id": "N9L2vvbtgc0j",
        "outputId": "658e77d8-58cc-4da7-a7d0-5ec8aa9f207d"
      },
      "execution_count": 77,
      "outputs": [
        {
          "output_type": "execute_result",
          "data": {
            "text/plain": [
              "20    0.014225\n",
              "Name: alpha, dtype: float64"
            ]
          },
          "metadata": {},
          "execution_count": 77
        }
      ]
    },
    {
      "cell_type": "markdown",
      "source": [
        "At this point python thinks that ideal_ccp_alpha is a series, which is a type of array. We can tell that because when we printed ideal_ccp_alpha out we got two bits of stuff. the first one was **20**, which is the index in the series, the second one, **0.014225**, is the value we want. So we can convert this from a series to float with the following command : "
      ],
      "metadata": {
        "id": "Rdgf2-oygmMp"
      }
    },
    {
      "cell_type": "code",
      "source": [
        "## convert ideal_ccp_alpha from a series to a float\n",
        "ideal_ccp_alpha = float(ideal_ccp_alpha)\n",
        "ideal_ccp_alpha"
      ],
      "metadata": {
        "colab": {
          "base_uri": "https://localhost:8080/"
        },
        "id": "CtRx0eaYhxVT",
        "outputId": "45a76c04-be6e-497b-89c0-d2107cb353eb"
      },
      "execution_count": 78,
      "outputs": [
        {
          "output_type": "execute_result",
          "data": {
            "text/plain": [
              "0.014224751066856332"
            ]
          },
          "metadata": {},
          "execution_count": 78
        }
      ]
    },
    {
      "cell_type": "markdown",
      "source": [
        "## Building, Evaluating, Drawing and interpreting the final Classification Tree"
      ],
      "metadata": {
        "id": "QwIE3OcXiAPu"
      }
    },
    {
      "cell_type": "markdown",
      "source": [
        "Now that we have the ideal value for alpha we can build the final Classification Tree by setting cc_alpha - ideal_ccp_alpha : "
      ],
      "metadata": {
        "id": "BP1IzoUlin_9"
      }
    },
    {
      "cell_type": "code",
      "source": [
        "clf_dt_pruned = DecisionTreeClassifier(random_state=42,\n",
        "                                       ccp_alpha=ideal_ccp_alpha)\n",
        "\n",
        "clf_dt_pruned = clf_dt_pruned.fit(X_train, y_train)"
      ],
      "metadata": {
        "id": "DQLjm-hAjWHc"
      },
      "execution_count": 79,
      "outputs": []
    },
    {
      "cell_type": "markdown",
      "source": [
        "Now let's draw another confusion matrix to see if the pruned tree does better"
      ],
      "metadata": {
        "id": "pLFO1bYtjtH1"
      }
    },
    {
      "cell_type": "code",
      "source": [
        "plot_confusion_matrix(clf_dt_pruned,\n",
        "                      X_test,\n",
        "                      y_test,\n",
        "                      display_labels=[\"Does not have HD\", \"Has HD\"])"
      ],
      "metadata": {
        "colab": {
          "base_uri": "https://localhost:8080/",
          "height": 351
        },
        "id": "m16VQLBVj4lN",
        "outputId": "e81f3201-eef0-4c0c-fb83-926a83f0c51c"
      },
      "execution_count": 80,
      "outputs": [
        {
          "output_type": "stream",
          "name": "stderr",
          "text": [
            "/usr/local/lib/python3.7/dist-packages/sklearn/utils/deprecation.py:87: FutureWarning: Function plot_confusion_matrix is deprecated; Function `plot_confusion_matrix` is deprecated in 1.0 and will be removed in 1.2. Use one of the class methods: ConfusionMatrixDisplay.from_predictions or ConfusionMatrixDisplay.from_estimator.\n",
            "  warnings.warn(msg, category=FutureWarning)\n"
          ]
        },
        {
          "output_type": "execute_result",
          "data": {
            "text/plain": [
              "<sklearn.metrics._plot.confusion_matrix.ConfusionMatrixDisplay at 0x7f1254687e90>"
            ]
          },
          "metadata": {},
          "execution_count": 80
        },
        {
          "output_type": "display_data",
          "data": {
            "text/plain": [
              "<Figure size 432x288 with 2 Axes>"
            ],
            "image/png": "[encoded data removed]"
          },
          "metadata": {
            "needs_background": "light"
          }
        }
      ]
    },
    {
      "cell_type": "markdown",
      "source": [
        "Of the **34 + 8 = 42** people that did not have heart disease, **31(81%)** were correctly classified. This is an improvement over the full sized tree, which only correctly classified **31(74%)** of the patients without heart disease. Of the **5 + 28 = 33** people with heart disease, **28(85%)** were correctly clasified. Again, this is an improvement over the full sized tree, which only correctly classified **26(79%)** of the patients with heart disease."
      ],
      "metadata": {
        "id": "km5tGwj4kGhZ"
      }
    },
    {
      "cell_type": "code",
      "source": [
        "plt.figure(figsize=(15, 7.5))\n",
        "plot_tree(clf_dt_pruned,\n",
        "          filled=True,\n",
        "          rounded=True,\n",
        "          class_names=[\"No HD\", \"Yes HD\"],\n",
        "          feature_names=X_encoded.columns)"
      ],
      "metadata": {
        "id": "fP0tKVZL5Zgr",
        "outputId": "60aa6632-b9bb-4f11-c5af-deed21437934",
        "colab": {
          "base_uri": "https://localhost:8080/",
          "height": 665
        }
      },
      "execution_count": 82,
      "outputs": [
        {
          "output_type": "execute_result",
          "data": {
            "text/plain": [
              "[Text(0.5769230769230769, 0.875, 'ca <= 0.5\\ngini = 0.498\\nsamples = 222\\nvalue = [118, 104]\\nclass = No HD'),\n",
              " Text(0.3076923076923077, 0.625, 'thal_7.0 <= 0.5\\ngini = 0.382\\nsamples = 132\\nvalue = [98, 34]\\nclass = No HD'),\n",
              " Text(0.15384615384615385, 0.375, 'oldpeak <= 2.7\\ngini = 0.24\\nsamples = 93\\nvalue = [80, 13]\\nclass = No HD'),\n",
              " Text(0.07692307692307693, 0.125, 'gini = 0.185\\nsamples = 87\\nvalue = [78, 9]\\nclass = No HD'),\n",
              " Text(0.23076923076923078, 0.125, 'gini = 0.444\\nsamples = 6\\nvalue = [2, 4]\\nclass = Yes HD'),\n",
              " Text(0.46153846153846156, 0.375, 'cp_4.0 <= 0.5\\ngini = 0.497\\nsamples = 39\\nvalue = [18, 21]\\nclass = Yes HD'),\n",
              " Text(0.38461538461538464, 0.125, 'gini = 0.42\\nsamples = 20\\nvalue = [14, 6]\\nclass = No HD'),\n",
              " Text(0.5384615384615384, 0.125, 'gini = 0.332\\nsamples = 19\\nvalue = [4, 15]\\nclass = Yes HD'),\n",
              " Text(0.8461538461538461, 0.625, 'cp_4.0 <= 0.5\\ngini = 0.346\\nsamples = 90\\nvalue = [20, 70]\\nclass = Yes HD'),\n",
              " Text(0.7692307692307693, 0.375, 'oldpeak <= 0.55\\ngini = 0.499\\nsamples = 31\\nvalue = [16, 15]\\nclass = No HD'),\n",
              " Text(0.6923076923076923, 0.125, 'gini = 0.401\\nsamples = 18\\nvalue = [13, 5]\\nclass = No HD'),\n",
              " Text(0.8461538461538461, 0.125, 'gini = 0.355\\nsamples = 13\\nvalue = [3, 10]\\nclass = Yes HD'),\n",
              " Text(0.9230769230769231, 0.375, 'gini = 0.126\\nsamples = 59\\nvalue = [4, 55]\\nclass = Yes HD')]"
            ]
          },
          "metadata": {},
          "execution_count": 82
        },
        {
          "output_type": "display_data",
          "data": {
            "text/plain": [
              "<Figure size 1080x540 with 1 Axes>"
            ],
            "image/png": "[encoded data removed]"
          },
          "metadata": {
            "needs_background": "light"
          }
        }
      ]
    },
    {
      "cell_type": "code",
      "source": [
        ""
      ],
      "metadata": {
        "id": "pnSm0MfW5249"
      },
      "execution_count": null,
      "outputs": []
    }
  ]
}