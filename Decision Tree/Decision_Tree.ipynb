{
  "nbformat": 4,
  "nbformat_minor": 0,
  "metadata": {
    "colab": {
      "name": "Decision_Tree.ipynb",
      "provenance": [],
      "authorship_tag": "ABX9TyO1gOrNYaRZx55it8sLwK5i",
      "include_colab_link": true
    },
    "kernelspec": {
      "name": "python3",
      "display_name": "Python 3"
    },
    "language_info": {
      "name": "python"
    }
  },
  "cells": [
    {
      "cell_type": "markdown",
      "metadata": {
        "id": "view-in-github",
        "colab_type": "text"
      },
      "source": [
        "<a href=\"https://colab.research.google.com/github/Priyo-prog/Machine-Learning/blob/main/Decision%20Tree/Decision_Tree.ipynb\" target=\"_parent\"><img src=\"https://colab.research.google.com/assets/colab-badge.svg\" alt=\"Open In Colab\"/></a>"
      ]
    },
    {
      "cell_type": "markdown",
      "source": [
        "# Decision Tree Classification\n",
        "\n",
        "* In this lesson we are going to use **scikit-learn** and **Cost-Complexity Pruning** to build the Classification tree.\n",
        "* **Classification Trees** are exceptionally useful machine learning method when you need to know how the decisions are being made.\n"
      ],
      "metadata": {
        "id": "tgAkAq7C2FwW"
      }
    },
    {
      "cell_type": "markdown",
      "source": [
        "## Import libraries and modules"
      ],
      "metadata": {
        "id": "cWimZGRG4LkH"
      }
    },
    {
      "cell_type": "code",
      "source": [
        "import pandas as pd\n",
        "import numpy as np\n",
        "import matplotlib.pyplot as plt\n",
        "from sklearn.tree import DecisionTreeClassifier\n",
        "from sklearn.tree import plot_tree\n",
        "from sklearn.model_selection import train_test_split\n",
        "from sklearn.model_selection import cross_val_score\n",
        "from sklearn.metrics import confusion_matrix\n"
      ],
      "metadata": {
        "id": "OS7MbP9G5hE-"
      },
      "execution_count": 1,
      "outputs": []
    },
    {
      "cell_type": "code",
      "source": [
        ""
      ],
      "metadata": {
        "id": "rjhkBAda5y3R"
      },
      "execution_count": null,
      "outputs": []
    }
  ]
}