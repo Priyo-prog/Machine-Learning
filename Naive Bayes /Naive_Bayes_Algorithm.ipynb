{
  "nbformat": 4,
  "nbformat_minor": 0,
  "metadata": {
    "colab": {
      "name": "Naive_Bayes_Algorithm.ipynb",
      "provenance": [],
      "authorship_tag": "ABX9TyPcPj01yjLizbCwoLXyKjQy",
      "include_colab_link": true
    },
    "kernelspec": {
      "name": "python3",
      "display_name": "Python 3"
    },
    "language_info": {
      "name": "python"
    }
  },
  "cells": [
    {
      "cell_type": "markdown",
      "metadata": {
        "id": "view-in-github",
        "colab_type": "text"
      },
      "source": [
        "<a href=\"https://colab.research.google.com/github/Priyo-prog/Machine-Learning/blob/main/Naive%20Bayes%20/Naive_Bayes_Algorithm.ipynb\" target=\"_parent\"><img src=\"https://colab.research.google.com/assets/colab-badge.svg\" alt=\"Open In Colab\"/></a>"
      ]
    },
    {
      "cell_type": "markdown",
      "source": [
        "# **Naive Bayes Algorithm**\n",
        "\n",
        "Naïve Bayes is a probabilistic machine learning algorithm based on the Bayes Theorem, used in a wide variety of classification tasks. In this article, we will understand the Naïve Bayes algorithm and all essential concepts so that there is no room for doubts in understanding.\n",
        "\n",
        "Why Naive ?\n",
        "\n",
        "Naive Bayes is called naive because it assumes that **each input variable is independent**. This is a strong assumption and unrealistic for real data; however, the technique is very effective on a large range of complex problems."
      ],
      "metadata": {
        "id": "uy85b-K1N_Gt"
      }
    },
    {
      "cell_type": "code",
      "source": [
        ""
      ],
      "metadata": {
        "id": "pyyBCnvIPIlo"
      },
      "execution_count": null,
      "outputs": []
    }
  ]
}